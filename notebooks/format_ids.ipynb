{
 "cells": [
  {
   "cell_type": "code",
   "execution_count": 3,
   "metadata": {},
   "outputs": [],
   "source": [
    "from pathlib import Path\n",
    "from ud_boxer.sbn_spec import SBNSpec\n",
    "\n",
    "start = Path('../../data/exp_data_4.0.0/')\n",
    "\n",
    "for lang in ['de', 'it', 'nl']:\n",
    "    for split in ['dev', 'test']:\n",
    "        all_ids = SBNSpec.DOC_ID_PATTERN.findall(\n",
    "            Path(f'{start}/{lang}/gold/{split}.txt.sbn').read_text()\n",
    "        )\n",
    "        seen = set()\n",
    "        temp = []\n",
    "        for i in all_ids:\n",
    "            if i in seen:\n",
    "                continue\n",
    "            seen.add(i)\n",
    "            temp.append(i)\n",
    "        Path(f'tmp_splits/{lang}_{split}.txt').write_text('\\n'.join(temp))\n"
   ]
  }
 ],
 "metadata": {
  "kernelspec": {
   "display_name": "Python 3.9.7 ('thesis')",
   "language": "python",
   "name": "python3"
  },
  "language_info": {
   "codemirror_mode": {
    "name": "ipython",
    "version": 3
   },
   "file_extension": ".py",
   "mimetype": "text/x-python",
   "name": "python",
   "nbconvert_exporter": "python",
   "pygments_lexer": "ipython3",
   "version": "3.9.7"
  },
  "orig_nbformat": 4,
  "vscode": {
   "interpreter": {
    "hash": "7e1a869e4f47a7a6954aa45bb00cc42349ff8300181ba44d21e548229fd9a24b"
   }
  }
 },
 "nbformat": 4,
 "nbformat_minor": 2
}
