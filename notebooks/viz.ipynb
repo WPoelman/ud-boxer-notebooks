{
 "cells": [
  {
   "cell_type": "code",
   "execution_count": 2,
   "metadata": {},
   "outputs": [],
   "source": [
    "from pathlib import Path\n",
    "from ud_boxer.sbn import SBNGraph\n",
    "from ud_boxer.ud import UDGraph"
   ]
  },
  {
   "cell_type": "code",
   "execution_count": 2,
   "metadata": {},
   "outputs": [
    {
     "name": "stderr",
     "output_type": "stream",
     "text": [
      "Initialized cyclic SBN graph, this will work for most tasks, but can cause problems later on when exporting to Penman for instance.\n"
     ]
    },
    {
     "data": {
      "text/plain": [
       "<ud_boxer.sbn.SBNGraph at 0x7f90c4513a90>"
      ]
     },
     "execution_count": 2,
     "metadata": {},
     "output_type": "execute_result"
    }
   ],
   "source": [
    "SBNGraph().from_path('/home/wessel/Documents/documents/study/1_thesis/data/pmb_dataset/pmb-extracted/pmb-4.0.0/data/en/gold/p67/d1486/en.drs.sbn').to_pdf('cyclic_graph')"
   ]
  },
  {
   "cell_type": "code",
   "execution_count": 13,
   "metadata": {},
   "outputs": [
    {
     "name": "stdout",
     "output_type": "stream",
     "text": [
      "digraph G {\n",
      "\"B-0\" [label=\"\", shape=box];\n",
      "\"female.n.02\" [label=\"female.n.02\"];\n",
      "\"Tracy\" [label=\"Tracy\", shape=none];\n",
      "\"lose.v.05\" [label=\"lose.v.05\"];\n",
      "\"time.n.08\" [label=\"time.n.08\"];\n",
      "now [label=now, shape=none];\n",
      "\"glasses.n.01\" [label=\"glasses.n.01\"];\n",
      "\"B-0\" -> \"female.n.02\"  [label=\"\", style=dotted];\n",
      "\"B-0\" -> \"lose.v.05\"  [label=\"\", style=dotted];\n",
      "\"B-0\" -> \"time.n.08\"  [label=\"\", style=dotted];\n",
      "\"B-0\" -> \"glasses.n.01\"  [label=\"\", style=dotted];\n",
      "\"female.n.02\" -> \"Tracy\"  [label=Name];\n",
      "\"lose.v.05\" -> \"female.n.02\"  [label=Agent];\n",
      "\"lose.v.05\" -> \"time.n.08\"  [label=Time];\n",
      "\"lose.v.05\" -> \"glasses.n.01\"  [label=Theme];\n",
      "\"time.n.08\" -> now  [label=TPR];\n",
      "\"glasses.n.01\" -> \"female.n.02\"  [label=User];\n",
      "}\n",
      "\n"
     ]
    }
   ],
   "source": [
    "# SBNGraph().from_path('data/test_cases/p04/d1646/en.drs.sbn').to_pdf('final_gold')\n",
    "print(SBNGraph().from_path('data/test_cases/p04/d1646/en.drs.sbn').to_dot_str())"
   ]
  },
  {
   "cell_type": "code",
   "execution_count": 6,
   "metadata": {},
   "outputs": [
    {
     "data": {
      "text/plain": [
       "<ud_boxer.sbn.SBNGraph at 0x7f9f3c9a2850>"
      ]
     },
     "execution_count": 6,
     "metadata": {},
     "output_type": "execute_result"
    }
   ],
   "source": [
    "SBNGraph().from_string('''\n",
    "be.v.03        Time +1 Theme +2 Location +3\n",
    "time.n.08      EQU now\n",
    "bookstore.n.01 Quantity +\n",
    "house.n.01\n",
    "''').to_pdf('strict_neural_gold')"
   ]
  },
  {
   "cell_type": "code",
   "execution_count": 17,
   "metadata": {},
   "outputs": [
    {
     "name": "stdout",
     "output_type": "stream",
     "text": [
      "digraph G {\n",
      "ROOT [label=ROOT, shape=box];\n",
      "Tracy [label=\"Tracy\\nTracy\\nPROPN\"];\n",
      "lost [label=\"lost\\nlose\\nVERB\"];\n",
      "her [label=\"her\\nshe\\nPRON\"];\n",
      "glasses [label=\"glasses\\nglasses\\nNOUN\"];\n",
      "\".\" [label=\".\\n.\\nPUNCT\"];\n",
      "ROOT -> lost  [label=root];\n",
      "lost -> Tracy  [label=nsubj];\n",
      "lost -> glasses  [label=obj];\n",
      "lost -> \".\"  [label=punct];\n",
      "glasses -> her  [label=\"nmod-poss\"];\n",
      "}\n",
      "\n"
     ]
    }
   ],
   "source": [
    "print(UDGraph().from_path('data/test_cases/p04/d1646/en.ud.stanza.conll').to_dot_str())"
   ]
  },
  {
   "cell_type": "code",
   "execution_count": 5,
   "metadata": {},
   "outputs": [
    {
     "data": {
      "text/plain": [
       "<ud_boxer.sbn.SBNGraph at 0x7f903af39fd0>"
      ]
     },
     "execution_count": 5,
     "metadata": {},
     "output_type": "execute_result"
    }
   ],
   "source": [
    "SBNGraph().from_path('/home/wessel/Documents/documents/study/1_thesis/data/pmb_dataset/pmb-extracted/pmb-4.0.0/data/en/gold/p10/d3030/en.drs.sbn').to_pdf('parsing_error_cycle_gold')"
   ]
  },
  {
   "cell_type": "code",
   "execution_count": 3,
   "metadata": {},
   "outputs": [
    {
     "data": {
      "text/plain": [
       "<ud_boxer.sbn.SBNGraph at 0x7f762b3d8910>"
      ]
     },
     "execution_count": 3,
     "metadata": {},
     "output_type": "execute_result"
    }
   ],
   "source": [
    "SBNGraph().from_path('/home/wessel/Documents/documents/study/1_thesis/data/pmb_dataset/pmb-extracted/pmb-4.0.0/data/en/gold/p00/d1461/en.drs.sbn').to_pdf('negation')"
   ]
  },
  {
   "cell_type": "code",
   "execution_count": 6,
   "metadata": {},
   "outputs": [
    {
     "data": {
      "text/plain": [
       "<ud_boxer.sbn.SBNGraph at 0x7f75d45dfeb0>"
      ]
     },
     "execution_count": 6,
     "metadata": {},
     "output_type": "execute_result"
    }
   ],
   "source": [
    "SBNGraph().from_path('/home/wessel/Documents/documents/study/1_thesis/data/pmb_dataset/pmb-extracted/pmb-4.0.0/data/en/gold/p57/d1982/en.drs.sbn').to_pdf('multi_sent')\n"
   ]
  },
  {
   "cell_type": "code",
   "execution_count": 2,
   "metadata": {},
   "outputs": [
    {
     "data": {
      "text/plain": [
       "<ud_boxer.ud.UDGraph at 0x7f9a06c3d520>"
      ]
     },
     "execution_count": 2,
     "metadata": {},
     "output_type": "execute_result"
    }
   ],
   "source": [
    "UDGraph().from_path('/home/wessel/Documents/documents/study/1_thesis/project/thesis/data/private/microwave/en.ud.stanza.conll').to_pdf('ud_graph')"
   ]
  },
  {
   "cell_type": "code",
   "execution_count": 6,
   "metadata": {},
   "outputs": [],
   "source": [
    "import pydot\n",
    "\n",
    "G = pydot.graph_from_dot_data('''\n",
    "digraph G {\n",
    "    lost -> time [label=\"tok=Time\"];\n",
    "    time -> now [label=\"tok=TIMERELATION\"];\n",
    "    \n",
    "    ROOT [label=ROOT, shape=box, color=red];\n",
    "    Tracy [label=\"Tracy\\nTracy\\nPROPN\\ntok=Tracy\"];\n",
    "    lost [label=\"lost\\nlose\\nVERB\\ntok=lose\"];\n",
    "    glasses [label=\"glasses\\nglasses\\nNOUN\\ntok=glasses\"];\n",
    "    \".\" [label=\".\\n.\\nPUNCT\\ntok=.\", color=red];\n",
    "    name [label=\"tok=Tracy\"];\n",
    "    \n",
    "    time [label=\"tok=time.n.08\"];\n",
    "    now [label=\"tok=now\"];\n",
    "    \n",
    "    \n",
    "    ROOT -> lost  [label=\"root\\ntok=NONE\", color=red];\n",
    "    lost -> Tracy  [label=\"nsubj\\ntok=NONE\"];\n",
    "    lost -> glasses  [label=\"obj\\ntok=NONE\"];\n",
    "    lost -> \".\"  [label=\"punct\\ntok=NONE\", color=red];\n",
    "    glasses -> Tracy [label=\"tok=User\"];\n",
    "    Tracy -> name  [label=\"tok=Name\"]\n",
    "}\n",
    "''')[0]"
   ]
  },
  {
   "cell_type": "code",
   "execution_count": 7,
   "metadata": {},
   "outputs": [],
   "source": [
    "G.write_pdf('clean.pdf')"
   ]
  },
  {
   "cell_type": "code",
   "execution_count": 1,
   "metadata": {},
   "outputs": [
    {
     "data": {
      "text/plain": [
       "{'precision': 0.9666666666666667,\n",
       " 'recall': 0.9666666666666667,\n",
       " 'f1': 0.9666666666666667}"
      ]
     },
     "execution_count": 1,
     "metadata": {},
     "output_type": "execute_result"
    }
   ],
   "source": [
    "from ud_boxer.helpers import smatch_score\n",
    "\n",
    "smatch_score('/home/wessel/Documents/documents/study/1_thesis/project/thesis/data/test_cases/p04/d1646/en.drs.penman', '/home/wessel/Documents/documents/study/1_thesis/project/thesis/data/test_cases/p04/d1646/predicted/output.penman')"
   ]
  },
  {
   "cell_type": "code",
   "execution_count": 2,
   "metadata": {},
   "outputs": [
    {
     "data": {
      "text/plain": [
       "<ud_boxer.sbn.SBNGraph at 0x7f8ad017bb50>"
      ]
     },
     "execution_count": 2,
     "metadata": {},
     "output_type": "execute_result"
    }
   ],
   "source": [
    "SBNGraph().from_string('''male.n.02    Name \"David Cameron\" time.n.08    EQU now live.v.01    Theme -2 Time -1 Location +1 country.n.02 Name \"America\"''', True).to_pdf('hallucination')"
   ]
  },
  {
   "cell_type": "code",
   "execution_count": null,
   "metadata": {},
   "outputs": [],
   "source": [
    "SBNGraph().from_string('''male.n.02    Name \"David Cameron\" time.n.08    EQU now live.v.01    Theme -2 Time -1 Location +1 country.n.02 Name \"America\"''', True).to_pdf('hallucination')"
   ]
  },
  {
   "cell_type": "code",
   "execution_count": 3,
   "metadata": {},
   "outputs": [
    {
     "data": {
      "text/plain": [
       "<ud_boxer.sbn.SBNGraph at 0x7f8a46b6ff40>"
      ]
     },
     "execution_count": 3,
     "metadata": {},
     "output_type": "execute_result"
    }
   ],
   "source": [
    "SBNGraph().from_string('''\n",
    "time.n.08   EQU now\n",
    "female.n.02 Name David\n",
    "now.r.01\n",
    "live.v.01   Time -3 Agent -2 Manner -1 Location +1\n",
    "female.n.02 Name America\n",
    "''').to_pdf('ud_boxer_david')"
   ]
  },
  {
   "cell_type": "code",
   "execution_count": 4,
   "metadata": {},
   "outputs": [
    {
     "data": {
      "text/plain": [
       "<ud_boxer.sbn.SBNGraph at 0x7f8a46c5c370>"
      ]
     },
     "execution_count": 4,
     "metadata": {},
     "output_type": "execute_result"
    }
   ],
   "source": [
    "SBNGraph().from_string('''\n",
    "female.n.02\n",
    "die.v.01     Patient -1 Time +1 Causer +2\n",
    "time.n.08    TPR now\n",
    "bulimia.n.01\n",
    "''').to_pdf('hallucination_died.pdf')"
   ]
  }
 ],
 "metadata": {
  "interpreter": {
   "hash": "7e1a869e4f47a7a6954aa45bb00cc42349ff8300181ba44d21e548229fd9a24b"
  },
  "kernelspec": {
   "display_name": "Python 3.9.7 ('thesis')",
   "language": "python",
   "name": "python3"
  },
  "language_info": {
   "codemirror_mode": {
    "name": "ipython",
    "version": 3
   },
   "file_extension": ".py",
   "mimetype": "text/x-python",
   "name": "python",
   "nbconvert_exporter": "python",
   "pygments_lexer": "ipython3",
   "version": "3.9.7"
  },
  "orig_nbformat": 4
 },
 "nbformat": 4,
 "nbformat_minor": 2
}
