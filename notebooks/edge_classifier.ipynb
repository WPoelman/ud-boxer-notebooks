{
 "cells": [
  {
   "cell_type": "code",
   "execution_count": 27,
   "metadata": {},
   "outputs": [
    {
     "name": "stderr",
     "output_type": "stream",
     "text": [
      "<ipython-input-27-9efae633b53a>:6: DtypeWarning: Columns (36) have mixed types. Specify dtype option on import or set low_memory=False.\n",
      "  df = pd.read_csv(PATH)\n"
     ]
    }
   ],
   "source": [
    "from pathlib import Path\n",
    "import pandas as pd\n",
    "\n",
    "# Edge mappings are only based on isomorphic graphs from the en gold train dataset\n",
    "PATH = Path('data/edge_classifier/edge_mappings_2022_05_08_21_07_53.csv')\n",
    "df = pd.read_csv(PATH)"
   ]
  },
  {
   "cell_type": "code",
   "execution_count": 28,
   "metadata": {},
   "outputs": [
    {
     "data": {
      "text/html": [
       "<div>\n",
       "<style scoped>\n",
       "    .dataframe tbody tr th:only-of-type {\n",
       "        vertical-align: middle;\n",
       "    }\n",
       "\n",
       "    .dataframe tbody tr th {\n",
       "        vertical-align: top;\n",
       "    }\n",
       "\n",
       "    .dataframe thead th {\n",
       "        text-align: right;\n",
       "    }\n",
       "</style>\n",
       "<table border=\"1\" class=\"dataframe\">\n",
       "  <thead>\n",
       "    <tr style=\"text-align: right;\">\n",
       "      <th></th>\n",
       "      <th>from_node_token</th>\n",
       "      <th>from_node_Case</th>\n",
       "      <th>from_node_Number</th>\n",
       "      <th>from_node_Person</th>\n",
       "      <th>from_node_PronType</th>\n",
       "      <th>from_node_lemma</th>\n",
       "      <th>from_node_upos</th>\n",
       "      <th>from_node_xpos</th>\n",
       "      <th>to_node_token</th>\n",
       "      <th>label</th>\n",
       "      <th>...</th>\n",
       "      <th>from_node_NumType</th>\n",
       "      <th>to_node_Reflex</th>\n",
       "      <th>to_node_VerbForm</th>\n",
       "      <th>from_node_Degree</th>\n",
       "      <th>to_node_Tense</th>\n",
       "      <th>from_node_Gender</th>\n",
       "      <th>from_node_Poss</th>\n",
       "      <th>to_node_Mood</th>\n",
       "      <th>to_node_Voice</th>\n",
       "      <th>to_node_Foreign</th>\n",
       "    </tr>\n",
       "  </thead>\n",
       "  <tbody>\n",
       "    <tr>\n",
       "      <th>0</th>\n",
       "      <td>person.n.01</td>\n",
       "      <td>Nom</td>\n",
       "      <td>Sing</td>\n",
       "      <td>1.0</td>\n",
       "      <td>Prs</td>\n",
       "      <td>I</td>\n",
       "      <td>PRON</td>\n",
       "      <td>PRP</td>\n",
       "      <td>speaker</td>\n",
       "      <td>EQU</td>\n",
       "      <td>...</td>\n",
       "      <td>NaN</td>\n",
       "      <td>NaN</td>\n",
       "      <td>NaN</td>\n",
       "      <td>NaN</td>\n",
       "      <td>NaN</td>\n",
       "      <td>NaN</td>\n",
       "      <td>NaN</td>\n",
       "      <td>NaN</td>\n",
       "      <td>NaN</td>\n",
       "      <td>NaN</td>\n",
       "    </tr>\n",
       "    <tr>\n",
       "      <th>1</th>\n",
       "      <td>time.n.08</td>\n",
       "      <td>NaN</td>\n",
       "      <td>NaN</td>\n",
       "      <td>NaN</td>\n",
       "      <td>NaN</td>\n",
       "      <td>NaN</td>\n",
       "      <td>NaN</td>\n",
       "      <td>NaN</td>\n",
       "      <td>now</td>\n",
       "      <td>TPR</td>\n",
       "      <td>...</td>\n",
       "      <td>NaN</td>\n",
       "      <td>NaN</td>\n",
       "      <td>NaN</td>\n",
       "      <td>NaN</td>\n",
       "      <td>NaN</td>\n",
       "      <td>NaN</td>\n",
       "      <td>NaN</td>\n",
       "      <td>NaN</td>\n",
       "      <td>NaN</td>\n",
       "      <td>NaN</td>\n",
       "    </tr>\n",
       "    <tr>\n",
       "      <th>2</th>\n",
       "      <td>joke.v.01</td>\n",
       "      <td>NaN</td>\n",
       "      <td>NaN</td>\n",
       "      <td>NaN</td>\n",
       "      <td>NaN</td>\n",
       "      <td>joke</td>\n",
       "      <td>VERB</td>\n",
       "      <td>VBG</td>\n",
       "      <td>person.n.01</td>\n",
       "      <td>Agent</td>\n",
       "      <td>...</td>\n",
       "      <td>NaN</td>\n",
       "      <td>NaN</td>\n",
       "      <td>NaN</td>\n",
       "      <td>NaN</td>\n",
       "      <td>NaN</td>\n",
       "      <td>NaN</td>\n",
       "      <td>NaN</td>\n",
       "      <td>NaN</td>\n",
       "      <td>NaN</td>\n",
       "      <td>NaN</td>\n",
       "    </tr>\n",
       "    <tr>\n",
       "      <th>3</th>\n",
       "      <td>joke.v.01</td>\n",
       "      <td>NaN</td>\n",
       "      <td>NaN</td>\n",
       "      <td>NaN</td>\n",
       "      <td>NaN</td>\n",
       "      <td>joke</td>\n",
       "      <td>VERB</td>\n",
       "      <td>VBG</td>\n",
       "      <td>time.n.08</td>\n",
       "      <td>Time</td>\n",
       "      <td>...</td>\n",
       "      <td>NaN</td>\n",
       "      <td>NaN</td>\n",
       "      <td>NaN</td>\n",
       "      <td>NaN</td>\n",
       "      <td>NaN</td>\n",
       "      <td>NaN</td>\n",
       "      <td>NaN</td>\n",
       "      <td>NaN</td>\n",
       "      <td>NaN</td>\n",
       "      <td>NaN</td>\n",
       "    </tr>\n",
       "    <tr>\n",
       "      <th>4</th>\n",
       "      <td>tom.n.01</td>\n",
       "      <td>NaN</td>\n",
       "      <td>Sing</td>\n",
       "      <td>NaN</td>\n",
       "      <td>NaN</td>\n",
       "      <td>Tom</td>\n",
       "      <td>PROPN</td>\n",
       "      <td>NNP</td>\n",
       "      <td>Tom</td>\n",
       "      <td>Name</td>\n",
       "      <td>...</td>\n",
       "      <td>NaN</td>\n",
       "      <td>NaN</td>\n",
       "      <td>NaN</td>\n",
       "      <td>NaN</td>\n",
       "      <td>NaN</td>\n",
       "      <td>NaN</td>\n",
       "      <td>NaN</td>\n",
       "      <td>NaN</td>\n",
       "      <td>NaN</td>\n",
       "      <td>NaN</td>\n",
       "    </tr>\n",
       "    <tr>\n",
       "      <th>...</th>\n",
       "      <td>...</td>\n",
       "      <td>...</td>\n",
       "      <td>...</td>\n",
       "      <td>...</td>\n",
       "      <td>...</td>\n",
       "      <td>...</td>\n",
       "      <td>...</td>\n",
       "      <td>...</td>\n",
       "      <td>...</td>\n",
       "      <td>...</td>\n",
       "      <td>...</td>\n",
       "      <td>...</td>\n",
       "      <td>...</td>\n",
       "      <td>...</td>\n",
       "      <td>...</td>\n",
       "      <td>...</td>\n",
       "      <td>...</td>\n",
       "      <td>...</td>\n",
       "      <td>...</td>\n",
       "      <td>...</td>\n",
       "      <td>...</td>\n",
       "    </tr>\n",
       "    <tr>\n",
       "      <th>27140</th>\n",
       "      <td>person.n.01</td>\n",
       "      <td>Nom</td>\n",
       "      <td>NaN</td>\n",
       "      <td>2.0</td>\n",
       "      <td>Prs</td>\n",
       "      <td>you</td>\n",
       "      <td>PRON</td>\n",
       "      <td>PRP</td>\n",
       "      <td>speaker</td>\n",
       "      <td>EQU</td>\n",
       "      <td>...</td>\n",
       "      <td>NaN</td>\n",
       "      <td>NaN</td>\n",
       "      <td>NaN</td>\n",
       "      <td>NaN</td>\n",
       "      <td>NaN</td>\n",
       "      <td>NaN</td>\n",
       "      <td>NaN</td>\n",
       "      <td>NaN</td>\n",
       "      <td>NaN</td>\n",
       "      <td>NaN</td>\n",
       "    </tr>\n",
       "    <tr>\n",
       "      <th>27141</th>\n",
       "      <td>time.n.08</td>\n",
       "      <td>NaN</td>\n",
       "      <td>NaN</td>\n",
       "      <td>NaN</td>\n",
       "      <td>NaN</td>\n",
       "      <td>NaN</td>\n",
       "      <td>NaN</td>\n",
       "      <td>NaN</td>\n",
       "      <td>now</td>\n",
       "      <td>EQU</td>\n",
       "      <td>...</td>\n",
       "      <td>NaN</td>\n",
       "      <td>NaN</td>\n",
       "      <td>NaN</td>\n",
       "      <td>NaN</td>\n",
       "      <td>NaN</td>\n",
       "      <td>NaN</td>\n",
       "      <td>NaN</td>\n",
       "      <td>NaN</td>\n",
       "      <td>NaN</td>\n",
       "      <td>NaN</td>\n",
       "    </tr>\n",
       "    <tr>\n",
       "      <th>27142</th>\n",
       "      <td>sleep.v.01</td>\n",
       "      <td>NaN</td>\n",
       "      <td>NaN</td>\n",
       "      <td>NaN</td>\n",
       "      <td>NaN</td>\n",
       "      <td>sleep</td>\n",
       "      <td>VERB</td>\n",
       "      <td>VBG</td>\n",
       "      <td>person.n.01</td>\n",
       "      <td>Time</td>\n",
       "      <td>...</td>\n",
       "      <td>NaN</td>\n",
       "      <td>NaN</td>\n",
       "      <td>NaN</td>\n",
       "      <td>NaN</td>\n",
       "      <td>NaN</td>\n",
       "      <td>NaN</td>\n",
       "      <td>NaN</td>\n",
       "      <td>NaN</td>\n",
       "      <td>NaN</td>\n",
       "      <td>NaN</td>\n",
       "    </tr>\n",
       "    <tr>\n",
       "      <th>27143</th>\n",
       "      <td>sleep.v.01</td>\n",
       "      <td>NaN</td>\n",
       "      <td>NaN</td>\n",
       "      <td>NaN</td>\n",
       "      <td>NaN</td>\n",
       "      <td>sleep</td>\n",
       "      <td>VERB</td>\n",
       "      <td>VBG</td>\n",
       "      <td>time.n.08</td>\n",
       "      <td>Agent</td>\n",
       "      <td>...</td>\n",
       "      <td>NaN</td>\n",
       "      <td>NaN</td>\n",
       "      <td>NaN</td>\n",
       "      <td>NaN</td>\n",
       "      <td>NaN</td>\n",
       "      <td>NaN</td>\n",
       "      <td>NaN</td>\n",
       "      <td>NaN</td>\n",
       "      <td>NaN</td>\n",
       "      <td>NaN</td>\n",
       "    </tr>\n",
       "    <tr>\n",
       "      <th>27144</th>\n",
       "      <td>sleep.v.01</td>\n",
       "      <td>NaN</td>\n",
       "      <td>NaN</td>\n",
       "      <td>NaN</td>\n",
       "      <td>NaN</td>\n",
       "      <td>sleep</td>\n",
       "      <td>VERB</td>\n",
       "      <td>VBG</td>\n",
       "      <td>she.n.01</td>\n",
       "      <td>Co-Agent</td>\n",
       "      <td>...</td>\n",
       "      <td>NaN</td>\n",
       "      <td>NaN</td>\n",
       "      <td>NaN</td>\n",
       "      <td>NaN</td>\n",
       "      <td>NaN</td>\n",
       "      <td>NaN</td>\n",
       "      <td>NaN</td>\n",
       "      <td>NaN</td>\n",
       "      <td>NaN</td>\n",
       "      <td>NaN</td>\n",
       "    </tr>\n",
       "  </tbody>\n",
       "</table>\n",
       "<p>27145 rows × 37 columns</p>\n",
       "</div>"
      ],
      "text/plain": [
       "      from_node_token from_node_Case from_node_Number  from_node_Person  \\\n",
       "0         person.n.01            Nom             Sing               1.0   \n",
       "1           time.n.08            NaN              NaN               NaN   \n",
       "2           joke.v.01            NaN              NaN               NaN   \n",
       "3           joke.v.01            NaN              NaN               NaN   \n",
       "4            tom.n.01            NaN             Sing               NaN   \n",
       "...               ...            ...              ...               ...   \n",
       "27140     person.n.01            Nom              NaN               2.0   \n",
       "27141       time.n.08            NaN              NaN               NaN   \n",
       "27142      sleep.v.01            NaN              NaN               NaN   \n",
       "27143      sleep.v.01            NaN              NaN               NaN   \n",
       "27144      sleep.v.01            NaN              NaN               NaN   \n",
       "\n",
       "      from_node_PronType from_node_lemma from_node_upos from_node_xpos  \\\n",
       "0                    Prs               I           PRON            PRP   \n",
       "1                    NaN             NaN            NaN            NaN   \n",
       "2                    NaN            joke           VERB            VBG   \n",
       "3                    NaN            joke           VERB            VBG   \n",
       "4                    NaN             Tom          PROPN            NNP   \n",
       "...                  ...             ...            ...            ...   \n",
       "27140                Prs             you           PRON            PRP   \n",
       "27141                NaN             NaN            NaN            NaN   \n",
       "27142                NaN           sleep           VERB            VBG   \n",
       "27143                NaN           sleep           VERB            VBG   \n",
       "27144                NaN           sleep           VERB            VBG   \n",
       "\n",
       "      to_node_token     label  ... from_node_NumType to_node_Reflex  \\\n",
       "0           speaker       EQU  ...               NaN            NaN   \n",
       "1               now       TPR  ...               NaN            NaN   \n",
       "2       person.n.01     Agent  ...               NaN            NaN   \n",
       "3         time.n.08      Time  ...               NaN            NaN   \n",
       "4               Tom      Name  ...               NaN            NaN   \n",
       "...             ...       ...  ...               ...            ...   \n",
       "27140       speaker       EQU  ...               NaN            NaN   \n",
       "27141           now       EQU  ...               NaN            NaN   \n",
       "27142   person.n.01      Time  ...               NaN            NaN   \n",
       "27143     time.n.08     Agent  ...               NaN            NaN   \n",
       "27144      she.n.01  Co-Agent  ...               NaN            NaN   \n",
       "\n",
       "      to_node_VerbForm from_node_Degree to_node_Tense from_node_Gender  \\\n",
       "0                  NaN              NaN           NaN              NaN   \n",
       "1                  NaN              NaN           NaN              NaN   \n",
       "2                  NaN              NaN           NaN              NaN   \n",
       "3                  NaN              NaN           NaN              NaN   \n",
       "4                  NaN              NaN           NaN              NaN   \n",
       "...                ...              ...           ...              ...   \n",
       "27140              NaN              NaN           NaN              NaN   \n",
       "27141              NaN              NaN           NaN              NaN   \n",
       "27142              NaN              NaN           NaN              NaN   \n",
       "27143              NaN              NaN           NaN              NaN   \n",
       "27144              NaN              NaN           NaN              NaN   \n",
       "\n",
       "       from_node_Poss to_node_Mood to_node_Voice to_node_Foreign  \n",
       "0                 NaN          NaN           NaN             NaN  \n",
       "1                 NaN          NaN           NaN             NaN  \n",
       "2                 NaN          NaN           NaN             NaN  \n",
       "3                 NaN          NaN           NaN             NaN  \n",
       "4                 NaN          NaN           NaN             NaN  \n",
       "...               ...          ...           ...             ...  \n",
       "27140             NaN          NaN           NaN             NaN  \n",
       "27141             NaN          NaN           NaN             NaN  \n",
       "27142             NaN          NaN           NaN             NaN  \n",
       "27143             NaN          NaN           NaN             NaN  \n",
       "27144             NaN          NaN           NaN             NaN  \n",
       "\n",
       "[27145 rows x 37 columns]"
      ]
     },
     "execution_count": 28,
     "metadata": {},
     "output_type": "execute_result"
    }
   ],
   "source": [
    "df"
   ]
  },
  {
   "cell_type": "code",
   "execution_count": 29,
   "metadata": {},
   "outputs": [
    {
     "data": {
      "text/plain": [
       "27145"
      ]
     },
     "execution_count": 29,
     "metadata": {},
     "output_type": "execute_result"
    }
   ],
   "source": [
    "len(df)"
   ]
  },
  {
   "cell_type": "code",
   "execution_count": 30,
   "metadata": {},
   "outputs": [
    {
     "data": {
      "text/plain": [
       "Index(['from_node_token', 'from_node_Case', 'from_node_Number',\n",
       "       'from_node_Person', 'from_node_PronType', 'from_node_lemma',\n",
       "       'from_node_upos', 'from_node_xpos', 'to_node_token', 'label', 'deprel',\n",
       "       'doc_id', 'from_node_Tense', 'from_node_VerbForm', 'to_node_Case',\n",
       "       'to_node_Number', 'to_node_Person', 'to_node_PronType', 'to_node_lemma',\n",
       "       'to_node_upos', 'to_node_xpos', 'from_node_Mood', 'to_node_Gender',\n",
       "       'from_node_Voice', 'to_node_Degree', 'to_node_NumType', 'to_node_Poss',\n",
       "       'from_node_NumType', 'to_node_Reflex', 'to_node_VerbForm',\n",
       "       'from_node_Degree', 'to_node_Tense', 'from_node_Gender',\n",
       "       'from_node_Poss', 'to_node_Mood', 'to_node_Voice', 'to_node_Foreign'],\n",
       "      dtype='object')"
      ]
     },
     "execution_count": 30,
     "metadata": {},
     "output_type": "execute_result"
    }
   ],
   "source": [
    "df.columns"
   ]
  },
  {
   "cell_type": "code",
   "execution_count": 31,
   "metadata": {},
   "outputs": [
    {
     "data": {
      "text/plain": [
       "96"
      ]
     },
     "execution_count": 31,
     "metadata": {},
     "output_type": "execute_result"
    }
   ],
   "source": [
    "from synse.sbn_spec import SBNSpec\n",
    "\n",
    "len(SBNSpec.ROLES) + len(SBNSpec.DRS_OPERATORS)"
   ]
  },
  {
   "cell_type": "code",
   "execution_count": 32,
   "metadata": {},
   "outputs": [
    {
     "data": {
      "text/plain": [
       "75"
      ]
     },
     "execution_count": 32,
     "metadata": {},
     "output_type": "execute_result"
    }
   ],
   "source": [
    "len(df['label'].unique())"
   ]
  },
  {
   "cell_type": "code",
   "execution_count": 33,
   "metadata": {},
   "outputs": [],
   "source": [
    "feature_cols = [\n",
    "    \"deprel\",\n",
    "\n",
    "    \"from_node_Case\",\n",
    "    \"from_node_Degree\",\n",
    "    \"from_node_Gender\",\n",
    "    \"from_node_Mood\",\n",
    "    \"from_node_Number\",\n",
    "    \"from_node_NumType\",\n",
    "    \"from_node_Person\",\n",
    "    \"from_node_Poss\",\n",
    "    \"from_node_PronType\",\n",
    "    \"from_node_Tense\",\n",
    "    \"from_node_upos\",\n",
    "    \"from_node_VerbForm\",\n",
    "    \"from_node_Voice\",\n",
    "    \"from_node_xpos\",\n",
    "\n",
    "    \"to_node_Case\",\n",
    "    \"to_node_Degree\",\n",
    "    \"to_node_Foreign\",\n",
    "    \"to_node_Gender\",\n",
    "    \"to_node_Mood\",\n",
    "    \"to_node_Number\",\n",
    "    \"to_node_NumType\",\n",
    "    \"to_node_Person\",\n",
    "    \"to_node_Poss\",\n",
    "    \"to_node_PronType\",\n",
    "    \"to_node_Reflex\",\n",
    "    \"to_node_Tense\",\n",
    "    \"to_node_upos\",\n",
    "    \"to_node_VerbForm\",\n",
    "    \"to_node_Voice\",\n",
    "    \"to_node_xpos\",\n",
    "]\n"
   ]
  },
  {
   "cell_type": "code",
   "execution_count": 34,
   "metadata": {},
   "outputs": [
    {
     "data": {
      "text/plain": [
       "889"
      ]
     },
     "execution_count": 34,
     "metadata": {},
     "output_type": "execute_result"
    }
   ],
   "source": [
    "# TODO: check duplicates here to find possible ambiguous UD -> DRS parsing (at least on node level)\n",
    "df = df.drop_duplicates(feature_cols)\n",
    "len(df)"
   ]
  },
  {
   "cell_type": "code",
   "execution_count": 35,
   "metadata": {},
   "outputs": [],
   "source": [
    "from sklearn.preprocessing import OneHotEncoder\n",
    "\n",
    "encoder = OneHotEncoder(sparse=False, handle_unknown='ignore')"
   ]
  },
  {
   "cell_type": "code",
   "execution_count": 36,
   "metadata": {},
   "outputs": [],
   "source": [
    "result = encoder.fit_transform(df[feature_cols].values)"
   ]
  },
  {
   "cell_type": "code",
   "execution_count": 41,
   "metadata": {},
   "outputs": [],
   "source": [
    "from sklearn.pipeline import Pipeline\n",
    "from sklearn.tree import DecisionTreeClassifier\n",
    "\n",
    "pipeline = Pipeline([\n",
    "    ('encoder', encoder),\n",
    "    ('clf', DecisionTreeClassifier()),\n",
    "])"
   ]
  },
  {
   "cell_type": "code",
   "execution_count": 42,
   "metadata": {},
   "outputs": [
    {
     "data": {
      "text/plain": [
       "Pipeline(steps=[('encoder',\n",
       "                 OneHotEncoder(handle_unknown='ignore', sparse=False)),\n",
       "                ('clf', DecisionTreeClassifier())])"
      ]
     },
     "execution_count": 42,
     "metadata": {},
     "output_type": "execute_result"
    }
   ],
   "source": [
    "pipeline.fit(df[feature_cols].values, df['label'])"
   ]
  },
  {
   "cell_type": "code",
   "execution_count": 43,
   "metadata": {},
   "outputs": [
    {
     "data": {
      "text/plain": [
       "array(['EQU'], dtype=object)"
      ]
     },
     "execution_count": 43,
     "metadata": {},
     "output_type": "execute_result"
    }
   ],
   "source": [
    "pipeline.predict(df[feature_cols].iloc[0].to_numpy().reshape(1, -1))"
   ]
  },
  {
   "cell_type": "code",
   "execution_count": 46,
   "metadata": {},
   "outputs": [
    {
     "data": {
      "text/plain": [
       "1.0"
      ]
     },
     "execution_count": 46,
     "metadata": {},
     "output_type": "execute_result"
    }
   ],
   "source": [
    "pipeline.score(df[feature_cols].values, df['label'])"
   ]
  },
  {
   "cell_type": "code",
   "execution_count": 47,
   "metadata": {},
   "outputs": [
    {
     "data": {
      "text/plain": [
       "['a']"
      ]
     },
     "execution_count": 47,
     "metadata": {},
     "output_type": "execute_result"
    }
   ],
   "source": [
    "'a'.split(':')"
   ]
  },
  {
   "cell_type": "code",
   "execution_count": 44,
   "metadata": {},
   "outputs": [
    {
     "data": {
      "text/plain": [
       "['edge_clf.joblib']"
      ]
     },
     "execution_count": 44,
     "metadata": {},
     "output_type": "execute_result"
    }
   ],
   "source": [
    "import joblib\n",
    "\n",
    "joblib.dump(pipeline, 'edge_clf.joblib')"
   ]
  },
  {
   "cell_type": "code",
   "execution_count": 11,
   "metadata": {},
   "outputs": [
    {
     "data": {
      "text/plain": [
       "186"
      ]
     },
     "execution_count": 11,
     "metadata": {},
     "output_type": "execute_result"
    }
   ],
   "source": [
    "len(result[0])"
   ]
  },
  {
   "cell_type": "code",
   "execution_count": 12,
   "metadata": {},
   "outputs": [
    {
     "data": {
      "text/plain": [
       "DecisionTreeClassifier()"
      ]
     },
     "execution_count": 12,
     "metadata": {},
     "output_type": "execute_result"
    }
   ],
   "source": [
    "from sklearn.tree import DecisionTreeClassifier\n",
    "\n",
    "clf = DecisionTreeClassifier()\n",
    "clf.fit(result, df['label'])"
   ]
  },
  {
   "cell_type": "code",
   "execution_count": 13,
   "metadata": {},
   "outputs": [
    {
     "data": {
      "text/plain": [
       "1.0"
      ]
     },
     "execution_count": 13,
     "metadata": {},
     "output_type": "execute_result"
    }
   ],
   "source": [
    "clf.score(result, df['label'])"
   ]
  },
  {
   "cell_type": "code",
   "execution_count": 14,
   "metadata": {},
   "outputs": [
    {
     "data": {
      "text/plain": [
       "array(['EQU'], dtype=object)"
      ]
     },
     "execution_count": 14,
     "metadata": {},
     "output_type": "execute_result"
    }
   ],
   "source": [
    "clf.predict(result[0].reshape(1, -1))"
   ]
  },
  {
   "cell_type": "code",
   "execution_count": 21,
   "metadata": {},
   "outputs": [
    {
     "data": {
      "text/plain": [
       "from_node_token        person.n.01\n",
       "from_node_Case                 Nom\n",
       "from_node_Number              Sing\n",
       "from_node_Person               1.0\n",
       "from_node_PronType             Prs\n",
       "from_node_lemma                  I\n",
       "from_node_upos                PRON\n",
       "from_node_xpos                 PRP\n",
       "to_node_token              speaker\n",
       "label                          EQU\n",
       "deprel                         NaN\n",
       "doc_id                en/p12/d1711\n",
       "from_node_Tense                NaN\n",
       "from_node_VerbForm             NaN\n",
       "to_node_Case                   NaN\n",
       "to_node_Number                 NaN\n",
       "to_node_Person                 NaN\n",
       "to_node_PronType               NaN\n",
       "to_node_lemma                  NaN\n",
       "to_node_upos                   NaN\n",
       "to_node_xpos                   NaN\n",
       "from_node_Mood                 NaN\n",
       "to_node_Gender                 NaN\n",
       "from_node_Voice                NaN\n",
       "to_node_Degree                 NaN\n",
       "to_node_NumType                NaN\n",
       "to_node_Poss                   NaN\n",
       "from_node_NumType              NaN\n",
       "to_node_Reflex                 NaN\n",
       "to_node_VerbForm               NaN\n",
       "from_node_Degree               NaN\n",
       "to_node_Tense                  NaN\n",
       "from_node_Gender               NaN\n",
       "from_node_Poss                 NaN\n",
       "to_node_Mood                   NaN\n",
       "to_node_Voice                  NaN\n",
       "to_node_Foreign                NaN\n",
       "Name: 0, dtype: object"
      ]
     },
     "execution_count": 21,
     "metadata": {},
     "output_type": "execute_result"
    }
   ],
   "source": [
    "df.iloc[0]"
   ]
  },
  {
   "cell_type": "code",
   "execution_count": null,
   "metadata": {},
   "outputs": [],
   "source": []
  }
 ],
 "metadata": {
  "interpreter": {
   "hash": "7e1a869e4f47a7a6954aa45bb00cc42349ff8300181ba44d21e548229fd9a24b"
  },
  "kernelspec": {
   "display_name": "Python 3.9.7 ('thesis')",
   "language": "python",
   "name": "python3"
  },
  "language_info": {
   "codemirror_mode": {
    "name": "ipython",
    "version": 3
   },
   "file_extension": ".py",
   "mimetype": "text/x-python",
   "name": "python",
   "nbconvert_exporter": "python",
   "pygments_lexer": "ipython3",
   "version": "3.9.7"
  },
  "orig_nbformat": 4
 },
 "nbformat": 4,
 "nbformat_minor": 2
}
