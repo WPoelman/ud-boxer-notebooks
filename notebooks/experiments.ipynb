{
 "cells": [
  {
   "cell_type": "code",
   "execution_count": 1,
   "metadata": {},
   "outputs": [],
   "source": [
    "from regraph import NXGraph, Rule\n",
    "from regraph import plot_graph, plot_instance, plot_rule"
   ]
  },
  {
   "cell_type": "code",
   "execution_count": 2,
   "metadata": {},
   "outputs": [],
   "source": [
    "# Create an empty graph object\n",
    "graph = NXGraph()\n",
    "\n",
    "# Add a list of nodes, optionally with attributes\n",
    "graph.add_nodes_from(\n",
    "    [\n",
    "        'Alice',\n",
    "        ('Bob', {'age': 15, 'gender': 'male'}),\n",
    "        ('Jane', {'age': 40, 'gender': 'female'}),\n",
    "        ('Eric', {'age': 55, 'gender': 'male'})\n",
    "])\n",
    "\n",
    "# Add a list of edges, optionally with attributes\n",
    "graph.add_edges_from([\n",
    "    (\"Alice\", \"Bob\"),\n",
    "    (\"Jane\", \"Bob\", {\"type\": \"parent\", \"since\": 1993}),\n",
    "    (\"Eric\", \"Jane\", {\"type\": \"friend\", \"since\": 1985}),\n",
    "    (\"Eric\", \"Alice\", {\"type\": \"parent\", \"since\": 1992}),\n",
    "])"
   ]
  },
  {
   "cell_type": "code",
   "execution_count": 3,
   "metadata": {},
   "outputs": [
    {
     "data": {
      "image/png": "[encoded data removed]",
      "text/plain": [
       "<Figure size 432x288 with 1 Axes>"
      ]
     },
     "metadata": {
      "needs_background": "light"
     },
     "output_type": "display_data"
    }
   ],
   "source": [
    "positioning = plot_graph(graph)"
   ]
  },
  {
   "cell_type": "code",
   "execution_count": 3,
   "metadata": {},
   "outputs": [],
   "source": [
    "import random\n",
    "from pathlib import Path\n",
    "\n",
    "\n",
    "def get_sbn_files(folder_path):\n",
    "    return Path(folder_path).glob('**/*.sbn')\n",
    "\n",
    "\n",
    "def get_random_sbn_filepath(folder_path):\n",
    "    return random.choice(list(get_sbn_files(folder_path)))\n"
   ]
  },
  {
   "cell_type": "code",
   "execution_count": 13,
   "metadata": {},
   "outputs": [
    {
     "data": {
      "text/plain": [
       "294304"
      ]
     },
     "execution_count": 13,
     "metadata": {},
     "output_type": "execute_result"
    }
   ],
   "source": [
    "len(list(get_sbn_files('../data/pmb_dataset/pmb-extracted/pmb-4.0.0/data/en')))"
   ]
  },
  {
   "cell_type": "code",
   "execution_count": 6,
   "metadata": {},
   "outputs": [],
   "source": [
    "gen = get_sbn_files('../data/pmb_dataset/pmb-extracted/pmb-4.0.0/data/en')"
   ]
  },
  {
   "cell_type": "code",
   "execution_count": 11,
   "metadata": {},
   "outputs": [],
   "source": [
    "example = next(gen)"
   ]
  },
  {
   "cell_type": "code",
   "execution_count": 12,
   "metadata": {},
   "outputs": [
    {
     "data": {
      "text/plain": [
       "['%%% This output was generated by the following command:',\n",
       " '%%% bin/boxer --input out/p12/d1503/en.parse.tags --semantics sbn --resolve --tense --instantiate --modal --theory sdrt --copula false --nn --elimeq --roles verbnet --integrate --warnings false --output out/p12/d1503/en.drs.sbn ',\n",
       " 'male.n.02                                    % He                  [0-2]',\n",
       " 'telephone.v.01 Agent -1 Time +1 Recipient +2 % telephoned          [3-13]',\n",
       " 'time.n.08      TPR now                       %                     ',\n",
       " 'person.n.01    EQU speaker                   % me again and again. [14-33]',\n",
       " '']"
      ]
     },
     "execution_count": 12,
     "metadata": {},
     "output_type": "execute_result"
    }
   ],
   "source": [
    "example.read_text().split('\\n')"
   ]
  },
  {
   "cell_type": "code",
   "execution_count": 1,
   "metadata": {},
   "outputs": [
    {
     "data": {
      "text/plain": [
       "False"
      ]
     },
     "execution_count": 1,
     "metadata": {},
     "output_type": "execute_result"
    }
   ],
   "source": [
    "'+1'.isupper()"
   ]
  },
  {
   "cell_type": "code",
   "execution_count": null,
   "metadata": {},
   "outputs": [],
   "source": [
    "test = 'female.n.02 Name \"Anna Politkovskaya\" % Anna Politkovskaya [0-18]'.split()\n"
   ]
  },
  {
   "cell_type": "code",
   "execution_count": 8,
   "metadata": {},
   "outputs": [
    {
     "data": {
      "text/plain": [
       "['25%_clause.n.01                                                            % On the \"25',\n",
       " ' clause\", [0-20]']"
      ]
     },
     "execution_count": 8,
     "metadata": {},
     "output_type": "execute_result"
    }
   ],
   "source": [
    "'25%_clause.n.01                                                            % On the \"25% clause\", [0-20]'.rsplit('%', maxsplit=1)"
   ]
  },
  {
   "cell_type": "code",
   "execution_count": 2,
   "metadata": {},
   "outputs": [],
   "source": [
    "extracted_roles = {'Content', 'APX', 'Value', 'Consumer', 'DayOfMonth', 'ClockTime', 'TIN', 'Participant', 'EQU', 'Result', 'Sub', 'Of', 'Precondition', 'Pivot', 'Destination', 'NEQ', 'Owner', 'Proposition', 'Finish', 'InstanceOf', 'Unit', 'Experiencer', 'Order', 'YearOfCentury', 'Source', 'MadeOf', 'Attribute', 'Role', 'MonthOfYear', 'Theme', 'Topic', 'Instrument', 'Beneficiary', 'Frequency', 'ESU', 'SXN', 'TSU', 'Start', 'Patient', 'Causer', 'Material', 'Title',\n",
    "                   'Extent', 'Stimulus', 'Path', 'SY2', 'Cause', 'Recipient', 'SY1', 'ContentOf', 'Co-Theme', 'STI', 'Agent', 'Context', 'Bearer', 'SXY', 'DayOfWeek', 'SXP', 'Time', 'MOR', 'TPR', 'PartOf', 'Instance', 'Colour', 'Location', 'Degree', 'Equal', 'STO', 'Asset', 'SZN', 'Manner', 'Product', 'User', 'LES', 'Goal', 'BOT', 'Name', 'TOP', 'Duration', 'ColourOf', 'SubOf', 'AttributeOf', 'Part', 'Affector', 'Quantity', 'TAB', 'EPR', 'Co-Agent', 'SZP', 'Creator', 'Co-Patient'}\n"
   ]
  },
  {
   "cell_type": "code",
   "execution_count": 3,
   "metadata": {},
   "outputs": [],
   "source": [
    "import yaml\n",
    "\n",
    "with open('/home/wessel/Documents/documents/study/1_thesis/data/pmb_dataset/pmb-extracted/pmb-4.0.0/src/clf_signature.yaml', 'r') as file:\n",
    "    spec = yaml.safe_load(file)"
   ]
  },
  {
   "cell_type": "code",
   "execution_count": 5,
   "metadata": {},
   "outputs": [],
   "source": [
    "roles = {\n",
    "'REF',\n",
    "'IMP',\n",
    "'DIS',\n",
    "'DUP',\n",
    "'NOT',\n",
    "'POS',\n",
    "'NEC',\n",
    "'ALTERNATION',\n",
    "'ATTRIBUTION',\n",
    "'BACKGROUND',\n",
    "'COMMENTARY',\n",
    "'CONDITION',\n",
    "'CONTINUATION',\n",
    "'CONTRAST',\n",
    "'CONSEQUENCE',\n",
    "'ELABORATION',\n",
    "'EXPLANATION',\n",
    "'INSTANCE',\n",
    "'NARRATION',\n",
    "'NEGATION',\n",
    "'NECESSITY',\n",
    "'POSSIBILITY',\n",
    "'PARALLEL',\n",
    "'PRECONDITION',\n",
    "'RESULT',\n",
    "'SOURCE',\n",
    "'TOPIC',\n",
    "'PRESUPPOSITION',\n",
    "'PRP',\n",
    "'Proposition',\n",
    "'Name',\n",
    "'EQU',  # equal\n",
    "'NEQ',  # not equla\n",
    "'APX',  # approximate\n",
    "'LES',  # less\n",
    "'LEQ',  # less or equal\n",
    "'TPR',  # precede\n",
    "'TAB',  # abut\n",
    "'TIN',  # include\n",
    "'SZP',  # above x / y\n",
    "'SZN',  # under x \\ y\n",
    "'SXP',  # behind x » y\n",
    "'SXN',  # before x « y\n",
    "'STI',  # inside\n",
    "'STO',  # outside\n",
    "'SY1',  # beside\n",
    "'SY2',  # between\n",
    "'SXY',  # around\n",
    "'Agent',\n",
    "'Asset',\n",
    "'Attribute',\n",
    "'AttributeOf',\n",
    "'Beneficiary',\n",
    "'Causer',\n",
    "'Co-Agent',\n",
    "'Co-Patient',\n",
    "'Co-Theme',\n",
    "'Consumer',\n",
    "'Destination',\n",
    "'Duration',\n",
    "'Experiencer',\n",
    "'Finish',\n",
    "'Frequency',\n",
    "'Goal',\n",
    "'Instrument',\n",
    "'Instance',\n",
    "'Location',\n",
    "'Manner',\n",
    "'Material',\n",
    "'Path',\n",
    "'Patient',\n",
    "'Pivot',\n",
    "'Product',\n",
    "'Recipient',\n",
    "'Result',\n",
    "'Source',\n",
    "'Start',\n",
    "'Stimulus',\n",
    "'Theme',\n",
    "'Time',\n",
    "'Topic',\n",
    "'Value',\n",
    "'Bearer',\n",
    "'Colour',\n",
    "'ColourOf',\n",
    "'ContentOf',\n",
    "'Content',\n",
    "'Creator',\n",
    "'Degree',\n",
    "'MadeOf',\n",
    "'Of',\n",
    "'Operand',\n",
    "'Owner',\n",
    "'Part',\n",
    "'PartOf',\n",
    "'Player',\n",
    "'Quantity',\n",
    "'Role',\n",
    "'Sub',\n",
    "'SubOf',\n",
    "'Title',\n",
    "'Unit',\n",
    "'User',\n",
    "'ClockTime',\n",
    "'DayOfMonth',\n",
    "'DayOfWeek',\n",
    "'Decade',\n",
    "'MonthOfYear',\n",
    "'YearOfCentury',\n",
    "'Affector',\n",
    "'Context',\n",
    "'Equal',\n",
    "'Extent',\n",
    "'Precondition',\n",
    "'Measure',\n",
    "'Cause',\n",
    "'Order',\n",
    "'Participant',\n",
    "}"
   ]
  },
  {
   "cell_type": "code",
   "execution_count": 7,
   "metadata": {},
   "outputs": [
    {
     "data": {
      "text/plain": [
       "{'BOT', 'EPR', 'ESU', 'InstanceOf', 'MOR', 'TOP', 'TSU'}"
      ]
     },
     "execution_count": 7,
     "metadata": {},
     "output_type": "execute_result"
    }
   ],
   "source": [
    "extracted_roles.difference(roles)"
   ]
  },
  {
   "cell_type": "code",
   "execution_count": 13,
   "metadata": {},
   "outputs": [
    {
     "data": {
      "text/plain": [
       "{'BACKGROUND',\n",
       " 'COMMENTARY',\n",
       " 'ELABORATION',\n",
       " 'INSTANCE',\n",
       " 'NARRATION',\n",
       " 'PARALLEL',\n",
       " 'TOPIC'}"
      ]
     },
     "execution_count": 13,
     "metadata": {},
     "output_type": "execute_result"
    }
   ],
   "source": [
    "extracted_indicators = {'RESULT', 'SOURCE', 'CONSEQUENCE', 'CONDITION', 'EXPLANATION', 'NEGATION', 'CONTRAST', 'NECESSITY', 'ATTRIBUTION', 'ALTERNATION', 'POSSIBILITY', 'PRECONDITION', 'CONTINUATION'}\n",
    "spec_indicators = {'ALTERNATION',\n",
    "'ATTRIBUTION',\n",
    "'BACKGROUND',\n",
    "'COMMENTARY',\n",
    "'CONDITION',\n",
    "'CONTINUATION',\n",
    "'CONTRAST',\n",
    "'CONSEQUENCE',\n",
    "'ELABORATION',\n",
    "'EXPLANATION',\n",
    "'INSTANCE',\n",
    "'NARRATION',\n",
    "'NEGATION',\n",
    "'NECESSITY',\n",
    "'POSSIBILITY',\n",
    "'PARALLEL',\n",
    "'PRECONDITION',\n",
    "'RESULT',\n",
    "'SOURCE',\n",
    "'TOPIC',}\n",
    "\n",
    "extracted_indicators.difference(spec_indicators)\n",
    "spec_indicators.difference(extracted_indicators)"
   ]
  },
  {
   "cell_type": "code",
   "execution_count": 17,
   "metadata": {},
   "outputs": [],
   "source": [
    "from dataclasses import dataclass\n",
    "\n",
    "@dataclass\n",
    "class Test:\n",
    "    name: str\n",
    "\n",
    "    def __hash__(self) -> int:\n",
    "        return hash(self.name)"
   ]
  },
  {
   "cell_type": "code",
   "execution_count": 18,
   "metadata": {},
   "outputs": [],
   "source": [
    "import networkx as nx\n",
    "\n",
    "G = nx.Graph()\n",
    "\n",
    "G.add_node(Test(name='hallo'))"
   ]
  },
  {
   "cell_type": "code",
   "execution_count": 21,
   "metadata": {},
   "outputs": [
    {
     "data": {
      "text/plain": [
       "[(Test(name='hallo'), {})]"
      ]
     },
     "execution_count": 21,
     "metadata": {},
     "output_type": "execute_result"
    }
   ],
   "source": [
    "list(G.nodes.items())"
   ]
  },
  {
   "cell_type": "code",
   "execution_count": 9,
   "metadata": {},
   "outputs": [
    {
     "name": "stdout",
     "output_type": "stream",
     "text": [
      "\n"
     ]
    }
   ],
   "source": [
    "print('' and None)"
   ]
  },
  {
   "cell_type": "code",
   "execution_count": 12,
   "metadata": {},
   "outputs": [
    {
     "data": {
      "text/plain": [
       "True"
      ]
     },
     "execution_count": 12,
     "metadata": {},
     "output_type": "execute_result"
    }
   ],
   "source": [
    "{1,2,3} == {1,3,2}"
   ]
  },
  {
   "cell_type": "code",
   "execution_count": 4,
   "metadata": {},
   "outputs": [],
   "source": [
    "from stanza.utils.conll import CoNLL\n",
    "\n",
    "doc, doc_comments = CoNLL.conll2dict('/home/wessel/Documents/documents/study/1_thesis/data/pmb_dataset/pmb-extracted/pmb-4.0.0/data/en/gold/p11/d0910/en.ud.stanza.conll')"
   ]
  },
  {
   "cell_type": "code",
   "execution_count": 16,
   "metadata": {},
   "outputs": [
    {
     "data": {
      "text/plain": [
       "10715"
      ]
     },
     "execution_count": 16,
     "metadata": {},
     "output_type": "execute_result"
    }
   ],
   "source": [
    "from pathlib import Path\n",
    "\n",
    "count = 0\n",
    "for file in Path('/home/wessel/Documents/documents/study/1_thesis/data/pmb_dataset/pmb-extracted/pmb-4.0.0/data/en/gold/').glob(\"**/*stanza.conll\"):\n",
    "    docs, _ = CoNLL.conll2dict(file)\n",
    "    count += 1\n",
    "    for sents in docs:\n",
    "        for sent in sents:\n",
    "            if len(sent['id']) > 1:\n",
    "                print(file)\n",
    "\n",
    "count"
   ]
  },
  {
   "cell_type": "code",
   "execution_count": 11,
   "metadata": {},
   "outputs": [
    {
     "data": {
      "text/plain": [
       "{'id': (1,),\n",
       " 'text': 'The',\n",
       " 'lemma': 'the',\n",
       " 'upos': 'DET',\n",
       " 'xpos': 'DT',\n",
       " 'feats': 'Definite=Def|PronType=Art',\n",
       " 'head': 2,\n",
       " 'deprel': 'det',\n",
       " 'misc': 'start_char=0|end_char=3'}"
      ]
     },
     "execution_count": 11,
     "metadata": {},
     "output_type": "execute_result"
    }
   ],
   "source": [
    "doc[0][0]"
   ]
  },
  {
   "cell_type": "code",
   "execution_count": 25,
   "metadata": {},
   "outputs": [],
   "source": [
    "nodes, edges = [], []\n",
    "IGNORE_NODE = {'deprel', 'misc'}\n",
    "ID = 'id'\n",
    "\n",
    "for tok in doc[0]:\n",
    "    # unpack ids\n",
    "    nodes.append({k if k != 'lemma' else 'token': v if k != ID else v[0] for k, v in tok.items() if k not in IGNORE_NODE})\n",
    "    edges.append((tok['head'], tok['id'][0], {'token': tok['deprel']}))"
   ]
  },
  {
   "cell_type": "code",
   "execution_count": 29,
   "metadata": {},
   "outputs": [
    {
     "data": {
      "text/plain": [
       "[(2, 1, {'token': 'det'}),\n",
       " (3, 2, {'token': 'nsubj'}),\n",
       " (0, 3, {'token': 'root'}),\n",
       " (6, 4, {'token': 'case'}),\n",
       " (6, 5, {'token': 'nummod'}),\n",
       " (3, 6, {'token': 'obl'}),\n",
       " (3, 7, {'token': 'punct'})]"
      ]
     },
     "execution_count": 29,
     "metadata": {},
     "output_type": "execute_result"
    }
   ],
   "source": [
    "[i for i in edges if 'token' not in i]"
   ]
  },
  {
   "cell_type": "code",
   "execution_count": 9,
   "metadata": {},
   "outputs": [],
   "source": [
    "from dataclasses import dataclass\n",
    "\n",
    "\n",
    "@dataclass\n",
    "class Node:\n",
    "    id: tuple[str, int]\n",
    "    name: str = None\n",
    "    token: str = None\n",
    "    type: str = None\n",
    "\n",
    "    def __hash__(self):\n",
    "        return hash(self.id)\n"
   ]
  },
  {
   "cell_type": "code",
   "execution_count": 17,
   "metadata": {},
   "outputs": [],
   "source": [
    "import networkx as nx\n",
    "\n",
    "G = nx.DiGraph()\n",
    "\n",
    "G.add_nodes_from([\n",
    "    (1, {'data': Node(('s', 1), 'moi', 'token', 'type')})\n",
    "])"
   ]
  },
  {
   "cell_type": "code",
   "execution_count": 18,
   "metadata": {},
   "outputs": [
    {
     "data": {
      "text/plain": [
       "[(1, {'data': Node(id=('s', 1), name='moi', token='token', type='type')})]"
      ]
     },
     "execution_count": 18,
     "metadata": {},
     "output_type": "execute_result"
    }
   ],
   "source": [
    "list(G.nodes.items())"
   ]
  },
  {
   "cell_type": "code",
   "execution_count": 2,
   "metadata": {},
   "outputs": [
    {
     "name": "stderr",
     "output_type": "stream",
     "text": [
      "Downloading https://raw.githubusercontent.com/stanfordnlp/stanza-resources/main/resources_1.3.0.json: 142kB [00:00, 64.2MB/s]                    \n",
      "2022-03-31 13:34:16 WARNING: Can not find mwt: default from official model list. Ignoring it.\n",
      "2022-03-31 13:34:16 INFO: Downloading these customized packages for language: en (English)...\n",
      "===============================\n",
      "| Processor       | Package   |\n",
      "-------------------------------\n",
      "| tokenize        | combined  |\n",
      "| pos             | combined  |\n",
      "| lemma           | combined  |\n",
      "| depparse        | combined  |\n",
      "| ner             | ontonotes |\n",
      "| backward_charlm | 1billion  |\n",
      "| pretrain        | combined  |\n",
      "| forward_charlm  | 1billion  |\n",
      "===============================\n",
      "\n",
      "2022-03-31 13:34:16 INFO: File exists: /home/wessel/stanza_resources/en/tokenize/combined.pt.\n",
      "2022-03-31 13:34:16 INFO: File exists: /home/wessel/stanza_resources/en/pos/combined.pt.\n",
      "2022-03-31 13:34:16 INFO: File exists: /home/wessel/stanza_resources/en/lemma/combined.pt.\n",
      "2022-03-31 13:34:16 INFO: File exists: /home/wessel/stanza_resources/en/depparse/combined.pt.\n",
      "2022-03-31 13:34:17 INFO: File exists: /home/wessel/stanza_resources/en/ner/ontonotes.pt.\n",
      "2022-03-31 13:34:17 INFO: File exists: /home/wessel/stanza_resources/en/backward_charlm/1billion.pt.\n",
      "2022-03-31 13:34:17 INFO: File exists: /home/wessel/stanza_resources/en/pretrain/combined.pt.\n",
      "2022-03-31 13:34:17 INFO: File exists: /home/wessel/stanza_resources/en/forward_charlm/1billion.pt.\n",
      "2022-03-31 13:34:17 INFO: Finished downloading models and saved to /home/wessel/stanza_resources.\n",
      "2022-03-31 13:34:17 WARNING: Can not find mwt: default from official model list. Ignoring it.\n",
      "2022-03-31 13:34:17 INFO: Loading these models for language: en (English):\n",
      "=========================\n",
      "| Processor | Package   |\n",
      "-------------------------\n",
      "| tokenize  | combined  |\n",
      "| pos       | combined  |\n",
      "| lemma     | combined  |\n",
      "| depparse  | combined  |\n",
      "| ner       | ontonotes |\n",
      "=========================\n",
      "\n",
      "/home/wessel/miniconda3/envs/thesis/lib/python3.9/site-packages/torch/cuda/__init__.py:52: UserWarning: CUDA initialization: Found no NVIDIA driver on your system. Please check that you have an NVIDIA GPU and installed a driver from http://www.nvidia.com/Download/index.aspx (Triggered internally at  /pytorch/c10/cuda/CUDAFunctions.cpp:100.)\n",
      "  return torch._C._cuda_getDeviceCount() > 0\n",
      "2022-03-31 13:34:17 INFO: Use device: cpu\n",
      "2022-03-31 13:34:17 INFO: Loading: tokenize\n",
      "2022-03-31 13:34:17 INFO: Loading: pos\n",
      "2022-03-31 13:34:17 INFO: Loading: lemma\n",
      "2022-03-31 13:34:17 INFO: Loading: depparse\n",
      "2022-03-31 13:34:17 INFO: Loading: ner\n",
      "2022-03-31 13:34:18 INFO: Done loading processors!\n"
     ]
    }
   ],
   "source": [
    "from stanza import Pipeline, download\n",
    "from stanza.utils.conll import CoNLL\n",
    "\n",
    "# No need for very heavy NER / sentiment etc models currently\n",
    "processors = \"tokenize,mwt,pos,lemma,depparse,ner\"\n",
    "download('en', processors=processors)\n",
    "pipeline = Pipeline(lang='en', processors=processors)"
   ]
  },
  {
   "cell_type": "code",
   "execution_count": 4,
   "metadata": {},
   "outputs": [
    {
     "name": "stdout",
     "output_type": "stream",
     "text": [
      "The Steve Miller Band - ORG\n",
      "June of 2010 - DATE\n",
      "\n",
      "The - B-ORG\n",
      "Steve - I-ORG\n",
      "Miller - I-ORG\n",
      "Band - E-ORG\n",
      "released - O\n",
      "a - O\n",
      "new - O\n",
      "album - O\n",
      "in - O\n",
      "June - B-DATE\n",
      "of - I-DATE\n",
      "2010 - E-DATE\n",
      ". - O\n"
     ]
    }
   ],
   "source": [
    "from stanza.utils.conll import CoNLL\n",
    "\n",
    "res = pipeline(\"The Steve Miller Band released a new album in June of 2010.\")\n",
    "# res = pipeline(\"Tracy lost het glasses.\")\n",
    "\n",
    "for word in res.ents:\n",
    "    print(f'{word.text} - {word.type}')\n",
    "print()\n",
    "for word in res.sentences[0].tokens:\n",
    "    print(f'{word.text} - {word.ner}')\n",
    "\n",
    "CoNLL.write_doc2conll(res, 'ner_test.conll')"
   ]
  },
  {
   "cell_type": "code",
   "execution_count": 26,
   "metadata": {},
   "outputs": [],
   "source": [
    "from synse.sbn import SBNGraph, SBN_NODE_TYPE, SBN_EDGE_TYPE\n",
    "\n",
    "S = SBNGraph().from_path('data/test_cases/p04/d1646/en.drs.sbn')"
   ]
  },
  {
   "cell_type": "code",
   "execution_count": 36,
   "metadata": {},
   "outputs": [],
   "source": [
    "abbreviations = []\n",
    "\n",
    "for node in S.nodes:\n",
    "    abbr = S.nodes[node][\"token\"].replace('\"', '').strip()[0].lower()\n",
    "\n",
    "    # if first letter is not in the abbreviations, the first letter becomes the abbreviation\n",
    "    if abbr not in abbreviations:\n",
    "        S.nodes[node][\"abbreviation\"] = abbr\n",
    "        abbreviations.append(abbr)\n",
    "    else:\n",
    "        previous = [x for x in abbreviations if x.startswith(abbr)]\n",
    "        S.nodes[node][\"abbreviation\"] = abbr + str(len(previous) + 1)\n",
    "        abbreviations.append(abbr)\n",
    "\n",
    "for edge in S.edges:\n",
    "    if S.edges[edge][\"type\"] == SBN_EDGE_TYPE.BOX_CONNECT:\n",
    "        S.edges[edge][\"token\"] = \"member\""
   ]
  },
  {
   "cell_type": "code",
   "execution_count": 37,
   "metadata": {},
   "outputs": [],
   "source": [
    "def to_amr_str(G: SBNGraph, current_node, visited, text_format, tabs):\n",
    "    node_data = G.nodes[current_node]\n",
    "    if current_node not in visited:\n",
    "        text_format += f'({node_data[\"abbreviation\"]} / {node_data[\"token\"]}'\n",
    "\n",
    "\n",
    "        if G.out_degree(current_node) == 0:\n",
    "            text_format += \")\"\n",
    "            visited.add(current_node)\n",
    "        else:\n",
    "            indents = tabs * \"\\t\"\n",
    "            for edge_id in G.edges(current_node):\n",
    "                _, child_node = edge_id\n",
    "                text_format += f'\\n{indents}:{G.edges[edge_id][\"token\"]} '\n",
    "                text_format = to_amr_str(\n",
    "                    G, child_node, visited, text_format, tabs + 1\n",
    "                )\n",
    "            text_format += \")\"\n",
    "            visited.add(current_node)\n",
    "    else:\n",
    "        text_format += node_data[\"abbreviation\"]\n",
    "    return text_format"
   ]
  },
  {
   "cell_type": "code",
   "execution_count": 38,
   "metadata": {},
   "outputs": [
    {
     "name": "stdout",
     "output_type": "stream",
     "text": [
      "(b / B-0\n",
      "\t:member (f / female.n.02\n",
      "\t\t:Name (t / \"Tracy\"))\n",
      "\t:member (l / lose.v.05\n",
      "\t\t:Agent f\n",
      "\t\t:Time (t2 / time.n.08\n",
      "\t\t\t:TPR (n / now))\n",
      "\t\t:Theme (g / glasses.n.01\n",
      "\t\t\t:User f))\n",
      "\t:member t2\n",
      "\t:member g)\n"
     ]
    }
   ],
   "source": [
    "starting_node = (SBN_NODE_TYPE.BOX, 0)\n",
    "print(to_amr_str(S, starting_node, set(), \"\", 1))"
   ]
  },
  {
   "cell_type": "code",
   "execution_count": 1,
   "metadata": {},
   "outputs": [],
   "source": [
    "grew_graph_output = [\n",
    "    {\n",
    "        \"_8_\": [\n",
    "            {\n",
    "                \"token\": \"now\"\n",
    "            },\n",
    "            []\n",
    "        ],\n",
    "        \"_7_\": [\n",
    "            {\n",
    "                \"token\": \"time.n.08\"\n",
    "            },\n",
    "            [\n",
    "                [\n",
    "                    \"TPR\",\n",
    "                    \"_8_\"\n",
    "                ]\n",
    "            ]\n",
    "        ],\n",
    "        \"_6_\": [\n",
    "            {\n",
    "                \"token\": \"Tracy\"\n",
    "            },\n",
    "            []\n",
    "        ],\n",
    "        \"1\": [\n",
    "            {\n",
    "                \"Number\": \"Sing\",\n",
    "                \"end_char\": \"5\",\n",
    "                \"form\": \"Tracy\",\n",
    "                \"lemma\": \"Tracy\",\n",
    "                \"start_char\": \"0\",\n",
    "                \"textform\": \"Tracy\",\n",
    "                \"token\": \"entity.n.01\",\n",
    "                \"upos\": \"PROPN\",\n",
    "                \"wordform\": \"Tracy\",\n",
    "                \"xpos\": \"NNP\"\n",
    "            },\n",
    "            [\n",
    "                [\n",
    "                    \"Name\",\n",
    "                    \"_6_\"\n",
    "                ]\n",
    "            ]\n",
    "        ],\n",
    "        \"2\": [\n",
    "            {\n",
    "                \"Mood\": \"Ind\",\n",
    "                \"Tense\": \"Past\",\n",
    "                \"VerbForm\": \"Fin\",\n",
    "                \"end_char\": \"10\",\n",
    "                \"form\": \"lost\",\n",
    "                \"lemma\": \"lose\",\n",
    "                \"start_char\": \"6\",\n",
    "                \"textform\": \"lost\",\n",
    "                \"upos\": \"VERB\",\n",
    "                \"wordform\": \"lost\",\n",
    "                \"xpos\": \"VBD\"\n",
    "            },\n",
    "            [\n",
    "                [\n",
    "                    \"Time\",\n",
    "                    \"_7_\"\n",
    "                ],\n",
    "                [\n",
    "                    \"nsubj\",\n",
    "                    \"1\"\n",
    "                ],\n",
    "                [\n",
    "                    \"obj\",\n",
    "                    \"4\"\n",
    "                ]\n",
    "            ]\n",
    "        ],\n",
    "        \"4\": [\n",
    "            {\n",
    "                \"Number\": \"Plur\",\n",
    "                \"end_char\": \"22\",\n",
    "                \"form\": \"glasses\",\n",
    "                \"lemma\": \"glasses\",\n",
    "                \"start_char\": \"15\",\n",
    "                \"textform\": \"glasses\",\n",
    "                \"upos\": \"NOUN\",\n",
    "                \"wordform\": \"glasses\",\n",
    "                \"xpos\": \"NNS\"\n",
    "            },\n",
    "            [\n",
    "                [\n",
    "                    \"User\",\n",
    "                    \"1\"\n",
    "                ]\n",
    "            ]\n",
    "        ]\n",
    "    }\n",
    "]"
   ]
  },
  {
   "cell_type": "code",
   "execution_count": 2,
   "metadata": {},
   "outputs": [],
   "source": [
    "g = grew_graph_output[0]"
   ]
  },
  {
   "cell_type": "code",
   "execution_count": 3,
   "metadata": {},
   "outputs": [],
   "source": [
    "from synse.sbn import SBNGraph\n",
    "\n",
    "G = SBNGraph().from_grew(g)"
   ]
  },
  {
   "cell_type": "code",
   "execution_count": 10,
   "metadata": {},
   "outputs": [
    {
     "name": "stdout",
     "output_type": "stream",
     "text": [
      "[Edge(source='b', role=':member', target='t'), Edge(source='t', role=':TPR', target='n'), Edge(source='b', role=':member', target='e'), Edge(source='e', role=':Name', target='t2'), Edge(source='b', role=':member', target='l'), Edge(source='l', role=':Time', target='t'), Edge(source='l', role=':nsubj', target='e'), Edge(source='l', role=':obj', target='g'), Edge(source='g', role=':User', target='e'), Edge(source='b', role=':member', target='g')]\n"
     ]
    }
   ],
   "source": [
    "import penman\n",
    "\n",
    "print(penman.decode(G.to_amr_string()).edges())"
   ]
  },
  {
   "cell_type": "code",
   "execution_count": 6,
   "metadata": {},
   "outputs": [
    {
     "name": "stdout",
     "output_type": "stream",
     "text": [
      "time.n.08 TPR now\n",
      "entity.n.01 Name Tracy\n",
      "lose Time -2 nsubj -1 obj +1\n",
      "glasses User -2\n"
     ]
    }
   ],
   "source": [
    "print(G.to_sbn_string())"
   ]
  },
  {
   "cell_type": "code",
   "execution_count": 5,
   "metadata": {},
   "outputs": [
    {
     "data": {
      "text/plain": [
       "<synse.sbn.sbn.SBNGraph at 0x7f9b4d714fa0>"
      ]
     },
     "execution_count": 5,
     "metadata": {},
     "output_type": "execute_result"
    }
   ],
   "source": [
    "G.to_png('test_from_grew')"
   ]
  },
  {
   "cell_type": "code",
   "execution_count": 8,
   "metadata": {},
   "outputs": [
    {
     "name": "stdout",
     "output_type": "stream",
     "text": [
      "_8_\t{'token': 'now'}\t[]\n",
      "_7_\t{'token': 'time.n.08'}\t[['TPR', '_8_']]\n",
      "_6_\t{'token': 'Tracy'}\t[]\n",
      "1\t{'Number': 'Sing', 'end_char': '5', 'form': 'Tracy', 'lemma': 'Tracy', 'start_char': '0', 'textform': 'Tracy', 'token': 'entity.n.01', 'upos': 'PROPN', 'wordform': 'Tracy', 'xpos': 'NNP'}\t[['Name', '_6_']]\n",
      "2\t{'Mood': 'Ind', 'Tense': 'Past', 'VerbForm': 'Fin', 'end_char': '10', 'form': 'lost', 'lemma': 'lose', 'start_char': '6', 'textform': 'lost', 'upos': 'VERB', 'wordform': 'lost', 'xpos': 'VBD'}\t[['Time', '_7_'], ['nsubj', '1'], ['obj', '4']]\n",
      "4\t{'Number': 'Plur', 'end_char': '22', 'form': 'glasses', 'lemma': 'glasses', 'start_char': '15', 'textform': 'glasses', 'upos': 'NOUN', 'wordform': 'glasses', 'xpos': 'NNS'}\t[['User', '1']]\n"
     ]
    }
   ],
   "source": [
    "for node_id, (node_data, edges) in g.items():\n",
    "    print(f'{node_id}\\t{node_data}\\t{edges}')"
   ]
  },
  {
   "cell_type": "code",
   "execution_count": 11,
   "metadata": {},
   "outputs": [
    {
     "ename": "NetworkXNoCycle",
     "evalue": "No cycle found.",
     "output_type": "error",
     "traceback": [
      "\u001b[0;31m---------------------------------------------------------------------------\u001b[0m",
      "\u001b[0;31mNetworkXNoCycle\u001b[0m                           Traceback (most recent call last)",
      "\u001b[1;32m/home/wessel/Documents/documents/study/1_thesis/project/thesis/experiments.ipynb Cell 43'\u001b[0m in \u001b[0;36m<module>\u001b[0;34m\u001b[0m\n\u001b[1;32m      <a href='vscode-notebook-cell:/home/wessel/Documents/documents/study/1_thesis/project/thesis/experiments.ipynb#ch0000038?line=0'>1</a>\u001b[0m \u001b[39mimport\u001b[39;00m \u001b[39mnetworkx\u001b[39;00m \u001b[39mas\u001b[39;00m \u001b[39mnx\u001b[39;00m\n\u001b[0;32m----> <a href='vscode-notebook-cell:/home/wessel/Documents/documents/study/1_thesis/project/thesis/experiments.ipynb#ch0000038?line=2'>3</a>\u001b[0m nx\u001b[39m.\u001b[39;49mfind_cycle(nx\u001b[39m.\u001b[39;49mDiGraph())\n",
      "File \u001b[0;32m~/miniconda3/envs/thesis/lib/python3.9/site-packages/networkx/algorithms/cycles.py:485\u001b[0m, in \u001b[0;36mfind_cycle\u001b[0;34m(G, source, orientation)\u001b[0m\n\u001b[1;32m    <a href='file:///home/wessel/miniconda3/envs/thesis/lib/python3.9/site-packages/networkx/algorithms/cycles.py?line=482'>483</a>\u001b[0m \u001b[39melse\u001b[39;00m:\n\u001b[1;32m    <a href='file:///home/wessel/miniconda3/envs/thesis/lib/python3.9/site-packages/networkx/algorithms/cycles.py?line=483'>484</a>\u001b[0m     \u001b[39massert\u001b[39;00m \u001b[39mlen\u001b[39m(cycle) \u001b[39m==\u001b[39m \u001b[39m0\u001b[39m\n\u001b[0;32m--> <a href='file:///home/wessel/miniconda3/envs/thesis/lib/python3.9/site-packages/networkx/algorithms/cycles.py?line=484'>485</a>\u001b[0m     \u001b[39mraise\u001b[39;00m nx\u001b[39m.\u001b[39mexception\u001b[39m.\u001b[39mNetworkXNoCycle(\u001b[39m\"\u001b[39m\u001b[39mNo cycle found.\u001b[39m\u001b[39m\"\u001b[39m)\n\u001b[1;32m    <a href='file:///home/wessel/miniconda3/envs/thesis/lib/python3.9/site-packages/networkx/algorithms/cycles.py?line=486'>487</a>\u001b[0m \u001b[39m# We now have a list of edges which ends on a cycle.\u001b[39;00m\n\u001b[1;32m    <a href='file:///home/wessel/miniconda3/envs/thesis/lib/python3.9/site-packages/networkx/algorithms/cycles.py?line=487'>488</a>\u001b[0m \u001b[39m# So we need to remove from the beginning edges that are not relevant.\u001b[39;00m\n\u001b[1;32m    <a href='file:///home/wessel/miniconda3/envs/thesis/lib/python3.9/site-packages/networkx/algorithms/cycles.py?line=489'>490</a>\u001b[0m \u001b[39mfor\u001b[39;00m i, edge \u001b[39min\u001b[39;00m \u001b[39menumerate\u001b[39m(cycle):\n",
      "\u001b[0;31mNetworkXNoCycle\u001b[0m: No cycle found."
     ]
    }
   ],
   "source": [
    "import networkx as nx\n",
    "\n",
    "nx.find_cycle(nx.DiGraph())"
   ]
  },
  {
   "cell_type": "code",
   "execution_count": 1,
   "metadata": {},
   "outputs": [],
   "source": [
    "a = '\"hallo\"'\n",
    "b = \"'hallo'\"\n",
    "c = 'hallo'"
   ]
  },
  {
   "cell_type": "code",
   "execution_count": 3,
   "metadata": {},
   "outputs": [
    {
     "data": {
      "text/plain": [
       "'hallo'"
      ]
     },
     "execution_count": 3,
     "metadata": {},
     "output_type": "execute_result"
    }
   ],
   "source": [
    "a[1:-1]"
   ]
  },
  {
   "cell_type": "code",
   "execution_count": 6,
   "metadata": {},
   "outputs": [],
   "source": [
    "test_str = \"\"\"\n",
    "(b0 / \"box\"\n",
    "\t:member (s0 / \"sense\"\n",
    "\t\t:lemma \"person\"\n",
    "\t\t:pos \"n\"\n",
    "\t\t:sense \"01\"\n",
    "\t\t:EQU \"hearer\")\n",
    "\t:NEGATION (b1 / \"box\"\n",
    "\t\t:member (s1 / \"sense\"\n",
    "\t\t\t:lemma \"entity\"\n",
    "\t\t\t:pos \"n\"\n",
    "\t\t\t:sense \"01\"\n",
    "\t\t:member (s2 / \"sense\"\n",
    "\t\t\t:lemma \"person\"\n",
    "\t\t\t:pos \"n\"\n",
    "\t\t\t:sense \"01\"\n",
    "\t\t\t:EQU \"hearer\")\n",
    "\t\t:member (s3 / \"sense\"\n",
    "\t\t\t:lemma \"like\"\n",
    "\t\t\t:pos \"v\"\n",
    "\t\t\t:sense \"02\"\n",
    "\t\t\t:Stimulus s1\n",
    "\t\t\t:Experiencer s2\n",
    "\t\t\t:Time (s4 / \"sense\"\n",
    "\t\t\t\t:lemma \"time\"\n",
    "\t\t\t\t:pos \"n\"\n",
    "\t\t\t\t:sense \"08\"\n",
    "\t\t\t\t:EQU \"now\"))\n",
    "\t\t:member s4\n",
    "\t\t:NEGATION (b2 / \"box\"\n",
    "\t\t\t:member (s5 / \"sense\"\n",
    "\t\t\t\t:lemma \"eat\"\n",
    "\t\t\t\t:pos \"v\"\n",
    "\t\t\t\t:sense \"01\"\n",
    "\t\t\t\t:Agent s0\n",
    "\t\t\t\t:Patient s1)))))\n",
    "\"\"\""
   ]
  },
  {
   "cell_type": "code",
   "execution_count": 7,
   "metadata": {},
   "outputs": [],
   "source": [
    "import penman\n",
    "a = penman.decode(test_str)"
   ]
  },
  {
   "cell_type": "code",
   "execution_count": 1,
   "metadata": {},
   "outputs": [
    {
     "ename": "NameError",
     "evalue": "name 'a' is not defined",
     "output_type": "error",
     "traceback": [
      "\u001b[0;31m---------------------------------------------------------------------------\u001b[0m",
      "\u001b[0;31mNameError\u001b[0m                                 Traceback (most recent call last)",
      "\u001b[1;32m/home/wessel/Documents/documents/study/1_thesis/project/thesis/experiments.ipynb Cell 48'\u001b[0m in \u001b[0;36m<module>\u001b[0;34m\u001b[0m\n\u001b[0;32m----> <a href='vscode-notebook-cell:/home/wessel/Documents/documents/study/1_thesis/project/thesis/experiments.ipynb#ch0000047?line=0'>1</a>\u001b[0m a\n",
      "\u001b[0;31mNameError\u001b[0m: name 'a' is not defined"
     ]
    }
   ],
   "source": [
    "a"
   ]
  },
  {
   "cell_type": "code",
   "execution_count": 11,
   "metadata": {},
   "outputs": [],
   "source": [
    "import re\n",
    "\n",
    "pat =  re.compile(r\"(p\\d{2}/d\\d{4})\")\n",
    "test = \"data/test_cases/p00/ d0004/en.drs.penman\""
   ]
  },
  {
   "cell_type": "code",
   "execution_count": 13,
   "metadata": {},
   "outputs": [
    {
     "name": "stdout",
     "output_type": "stream",
     "text": [
      "[]\n"
     ]
    }
   ],
   "source": [
    "print(pat.findall(test))"
   ]
  },
  {
   "cell_type": "code",
   "execution_count": 1,
   "metadata": {},
   "outputs": [],
   "source": [
    "from stanza.utils.conll import CoNLL\n",
    "from pathlib import Path\n",
    "\n",
    "conll_str = Path('/home/wessel/Documents/documents/study/1_thesis/data/pmb_dataset/pmb-extracted/pmb-4.0.0/data/en/gold/p00/d0942/en.ud.stanza.conll').read_text()"
   ]
  },
  {
   "cell_type": "code",
   "execution_count": 7,
   "metadata": {},
   "outputs": [],
   "source": [
    "sentences = conll_str.rstrip().split('\\n\\n')\n",
    "for i, sent in enumerate(sentences):\n",
    "    Path(f'test_{i}.conll').write_text(sent)"
   ]
  },
  {
   "cell_type": "code",
   "execution_count": 6,
   "metadata": {},
   "outputs": [
    {
     "data": {
      "text/plain": [
       "[\n",
       "  [\n",
       "    {\n",
       "      \"id\": 1,\n",
       "      \"text\": \"I\",\n",
       "      \"lemma\": \"I\",\n",
       "      \"upos\": \"PRON\",\n",
       "      \"xpos\": \"PRP\",\n",
       "      \"feats\": \"Case=Nom|Number=Sing|Person=1|PronType=Prs\",\n",
       "      \"head\": 4,\n",
       "      \"deprel\": \"nsubj\",\n",
       "      \"misc\": \"\",\n",
       "      \"start_char\": 0,\n",
       "      \"end_char\": 1\n",
       "    },\n",
       "    {\n",
       "      \"id\": 2,\n",
       "      \"text\": \"do\",\n",
       "      \"lemma\": \"do\",\n",
       "      \"upos\": \"AUX\",\n",
       "      \"xpos\": \"VBP\",\n",
       "      \"feats\": \"Mood=Ind|Tense=Pres|VerbForm=Fin\",\n",
       "      \"head\": 4,\n",
       "      \"deprel\": \"aux\",\n",
       "      \"misc\": \"\",\n",
       "      \"start_char\": 2,\n",
       "      \"end_char\": 4\n",
       "    },\n",
       "    {\n",
       "      \"id\": 3,\n",
       "      \"text\": \"n't\",\n",
       "      \"lemma\": \"not\",\n",
       "      \"upos\": \"PART\",\n",
       "      \"xpos\": \"RB\",\n",
       "      \"head\": 4,\n",
       "      \"deprel\": \"advmod\",\n",
       "      \"misc\": \"\",\n",
       "      \"start_char\": 4,\n",
       "      \"end_char\": 7\n",
       "    },\n",
       "    {\n",
       "      \"id\": 4,\n",
       "      \"text\": \"want\",\n",
       "      \"lemma\": \"want\",\n",
       "      \"upos\": \"VERB\",\n",
       "      \"xpos\": \"VB\",\n",
       "      \"feats\": \"VerbForm=Inf\",\n",
       "      \"head\": 0,\n",
       "      \"deprel\": \"root\",\n",
       "      \"misc\": \"\",\n",
       "      \"start_char\": 8,\n",
       "      \"end_char\": 12\n",
       "    },\n",
       "    {\n",
       "      \"id\": 5,\n",
       "      \"text\": \"pizza\",\n",
       "      \"lemma\": \"pizza\",\n",
       "      \"upos\": \"NOUN\",\n",
       "      \"xpos\": \"NN\",\n",
       "      \"feats\": \"Number=Sing\",\n",
       "      \"head\": 4,\n",
       "      \"deprel\": \"obj\",\n",
       "      \"misc\": \"\",\n",
       "      \"start_char\": 13,\n",
       "      \"end_char\": 18\n",
       "    },\n",
       "    {\n",
       "      \"id\": 6,\n",
       "      \"text\": \".\",\n",
       "      \"lemma\": \".\",\n",
       "      \"upos\": \"PUNCT\",\n",
       "      \"xpos\": \".\",\n",
       "      \"head\": 4,\n",
       "      \"deprel\": \"punct\",\n",
       "      \"misc\": \"\",\n",
       "      \"start_char\": 18,\n",
       "      \"end_char\": 19\n",
       "    }\n",
       "  ]\n",
       "]"
      ]
     },
     "execution_count": 6,
     "metadata": {},
     "output_type": "execute_result"
    }
   ],
   "source": [
    "CoNLL.conll2doc(input_str=sentences[0])"
   ]
  },
  {
   "cell_type": "code",
   "execution_count": 18,
   "metadata": {},
   "outputs": [],
   "source": [
    "from synse.base import BaseGraph\n",
    "from synse.sbn import SBNGraph\n",
    "\n",
    "a = SBNGraph(BaseGraph().from_json('graph_a.json'))\n",
    "b = SBNGraph(BaseGraph().from_json('graph_b.json'))"
   ]
  },
  {
   "cell_type": "code",
   "execution_count": 24,
   "metadata": {},
   "outputs": [
    {
     "ename": "AttributeError",
     "evalue": "'SBNGraph' object has no attribute 'type_indices'",
     "output_type": "error",
     "traceback": [
      "\u001b[0;31m---------------------------------------------------------------------------\u001b[0m",
      "\u001b[0;31mAttributeError\u001b[0m                            Traceback (most recent call last)",
      "\u001b[1;32m/home/wessel/Documents/documents/study/1_thesis/project/thesis/_experiments.ipynb Cell 55'\u001b[0m in \u001b[0;36m<module>\u001b[0;34m\u001b[0m\n\u001b[1;32m      <a href='vscode-notebook-cell:/home/wessel/Documents/documents/study/1_thesis/project/thesis/_experiments.ipynb#ch0000055?line=5'>6</a>\u001b[0m \u001b[39mfor\u001b[39;00m node_id, node_data \u001b[39min\u001b[39;00m b\u001b[39m.\u001b[39mnodes\u001b[39m.\u001b[39mitems():\n\u001b[1;32m      <a href='vscode-notebook-cell:/home/wessel/Documents/documents/study/1_thesis/project/thesis/_experiments.ipynb#ch0000055?line=6'>7</a>\u001b[0m     \u001b[39m# In het echt hoeft dit niet met de enums\u001b[39;00m\n\u001b[1;32m      <a href='vscode-notebook-cell:/home/wessel/Documents/documents/study/1_thesis/project/thesis/_experiments.ipynb#ch0000055?line=7'>8</a>\u001b[0m     \u001b[39mif\u001b[39;00m node_data[\u001b[39m\"\u001b[39m\u001b[39mtype\u001b[39m\u001b[39m\"\u001b[39m] \u001b[39m==\u001b[39m SBN_NODE_TYPE\u001b[39m.\u001b[39mBOX\u001b[39m.\u001b[39mvalue:\n\u001b[0;32m----> <a href='vscode-notebook-cell:/home/wessel/Documents/documents/study/1_thesis/project/thesis/_experiments.ipynb#ch0000055?line=8'>9</a>\u001b[0m         node \u001b[39m=\u001b[39m a\u001b[39m.\u001b[39;49mcreate_node(SBN_NODE_TYPE\u001b[39m.\u001b[39;49mBOX, node_data[\u001b[39m\"\u001b[39;49m\u001b[39mtoken\u001b[39;49m\u001b[39m\"\u001b[39;49m], node_data)\n\u001b[1;32m     <a href='vscode-notebook-cell:/home/wessel/Documents/documents/study/1_thesis/project/thesis/_experiments.ipynb#ch0000055?line=9'>10</a>\u001b[0m         edges\u001b[39m.\u001b[39mappend(\n\u001b[1;32m     <a href='vscode-notebook-cell:/home/wessel/Documents/documents/study/1_thesis/project/thesis/_experiments.ipynb#ch0000055?line=10'>11</a>\u001b[0m             a\u001b[39m.\u001b[39mcreate_edge(\n\u001b[1;32m     <a href='vscode-notebook-cell:/home/wessel/Documents/documents/study/1_thesis/project/thesis/_experiments.ipynb#ch0000055?line=11'>12</a>\u001b[0m                 a\u001b[39m.\u001b[39m_active_box_id,\n\u001b[0;32m   (...)\u001b[0m\n\u001b[1;32m     <a href='vscode-notebook-cell:/home/wessel/Documents/documents/study/1_thesis/project/thesis/_experiments.ipynb#ch0000055?line=15'>16</a>\u001b[0m             )\n\u001b[1;32m     <a href='vscode-notebook-cell:/home/wessel/Documents/documents/study/1_thesis/project/thesis/_experiments.ipynb#ch0000055?line=16'>17</a>\u001b[0m         )\n\u001b[1;32m     <a href='vscode-notebook-cell:/home/wessel/Documents/documents/study/1_thesis/project/thesis/_experiments.ipynb#ch0000055?line=17'>18</a>\u001b[0m     \u001b[39melif\u001b[39;00m node_data[\u001b[39m\"\u001b[39m\u001b[39mtype\u001b[39m\u001b[39m\"\u001b[39m] \u001b[39m==\u001b[39m SBN_NODE_TYPE\u001b[39m.\u001b[39mCONSTANT\u001b[39m.\u001b[39mvalue:\n",
      "File \u001b[0;32m~/Documents/documents/study/1_thesis/project/thesis/synse/sbn.py:363\u001b[0m, in \u001b[0;36mSBNGraph.create_node\u001b[0;34m(self, type, token, meta)\u001b[0m\n\u001b[1;32m    <a href='file:///home/wessel/Documents/documents/study/1_thesis/project/thesis/synse/sbn.py?line=355'>356</a>\u001b[0m \u001b[39mdef\u001b[39;00m \u001b[39mcreate_node\u001b[39m(\n\u001b[1;32m    <a href='file:///home/wessel/Documents/documents/study/1_thesis/project/thesis/synse/sbn.py?line=356'>357</a>\u001b[0m     \u001b[39mself\u001b[39m,\n\u001b[1;32m    <a href='file:///home/wessel/Documents/documents/study/1_thesis/project/thesis/synse/sbn.py?line=357'>358</a>\u001b[0m     \u001b[39mtype\u001b[39m: SBN_NODE_TYPE,\n\u001b[1;32m    <a href='file:///home/wessel/Documents/documents/study/1_thesis/project/thesis/synse/sbn.py?line=358'>359</a>\u001b[0m     token: Optional[\u001b[39mstr\u001b[39m] \u001b[39m=\u001b[39m \u001b[39mNone\u001b[39;00m,\n\u001b[1;32m    <a href='file:///home/wessel/Documents/documents/study/1_thesis/project/thesis/synse/sbn.py?line=359'>360</a>\u001b[0m     meta: Optional[Dict[\u001b[39mstr\u001b[39m, Any]] \u001b[39m=\u001b[39m \u001b[39mNone\u001b[39;00m,\n\u001b[1;32m    <a href='file:///home/wessel/Documents/documents/study/1_thesis/project/thesis/synse/sbn.py?line=360'>361</a>\u001b[0m ):\n\u001b[1;32m    <a href='file:///home/wessel/Documents/documents/study/1_thesis/project/thesis/synse/sbn.py?line=361'>362</a>\u001b[0m     \u001b[39m\"\"\"Create a node, if no token is provided, the id will be used.\"\"\"\u001b[39;00m\n\u001b[0;32m--> <a href='file:///home/wessel/Documents/documents/study/1_thesis/project/thesis/synse/sbn.py?line=362'>363</a>\u001b[0m     node_id \u001b[39m=\u001b[39m \u001b[39mself\u001b[39;49m\u001b[39m.\u001b[39;49m_id_for_type(\u001b[39mtype\u001b[39;49m)\n\u001b[1;32m    <a href='file:///home/wessel/Documents/documents/study/1_thesis/project/thesis/synse/sbn.py?line=363'>364</a>\u001b[0m     meta \u001b[39m=\u001b[39m meta \u001b[39mor\u001b[39;00m \u001b[39mdict\u001b[39m()\n\u001b[1;32m    <a href='file:///home/wessel/Documents/documents/study/1_thesis/project/thesis/synse/sbn.py?line=364'>365</a>\u001b[0m     \u001b[39mreturn\u001b[39;00m (\n\u001b[1;32m    <a href='file:///home/wessel/Documents/documents/study/1_thesis/project/thesis/synse/sbn.py?line=365'>366</a>\u001b[0m         node_id,\n\u001b[1;32m    <a href='file:///home/wessel/Documents/documents/study/1_thesis/project/thesis/synse/sbn.py?line=366'>367</a>\u001b[0m         {\n\u001b[0;32m   (...)\u001b[0m\n\u001b[1;32m    <a href='file:///home/wessel/Documents/documents/study/1_thesis/project/thesis/synse/sbn.py?line=374'>375</a>\u001b[0m         },\n\u001b[1;32m    <a href='file:///home/wessel/Documents/documents/study/1_thesis/project/thesis/synse/sbn.py?line=375'>376</a>\u001b[0m     )\n",
      "File \u001b[0;32m~/Documents/documents/study/1_thesis/project/thesis/synse/sbn.py:661\u001b[0m, in \u001b[0;36mSBNGraph._id_for_type\u001b[0;34m(self, type)\u001b[0m\n\u001b[1;32m    <a href='file:///home/wessel/Documents/documents/study/1_thesis/project/thesis/synse/sbn.py?line=657'>658</a>\u001b[0m \u001b[39mdef\u001b[39;00m \u001b[39m_id_for_type\u001b[39m(\n\u001b[1;32m    <a href='file:///home/wessel/Documents/documents/study/1_thesis/project/thesis/synse/sbn.py?line=658'>659</a>\u001b[0m     \u001b[39mself\u001b[39m, \u001b[39mtype\u001b[39m: Union[SBN_NODE_TYPE, SBN_EDGE_TYPE]\n\u001b[1;32m    <a href='file:///home/wessel/Documents/documents/study/1_thesis/project/thesis/synse/sbn.py?line=659'>660</a>\u001b[0m ) \u001b[39m-\u001b[39m\u001b[39m>\u001b[39m SBN_ID:\n\u001b[0;32m--> <a href='file:///home/wessel/Documents/documents/study/1_thesis/project/thesis/synse/sbn.py?line=660'>661</a>\u001b[0m     _id \u001b[39m=\u001b[39m (\u001b[39mtype\u001b[39m, \u001b[39mself\u001b[39;49m\u001b[39m.\u001b[39;49mtype_indices[\u001b[39mtype\u001b[39m])\n\u001b[1;32m    <a href='file:///home/wessel/Documents/documents/study/1_thesis/project/thesis/synse/sbn.py?line=661'>662</a>\u001b[0m     \u001b[39mself\u001b[39m\u001b[39m.\u001b[39mtype_indices[\u001b[39mtype\u001b[39m] \u001b[39m+\u001b[39m\u001b[39m=\u001b[39m \u001b[39m1\u001b[39m\n\u001b[1;32m    <a href='file:///home/wessel/Documents/documents/study/1_thesis/project/thesis/synse/sbn.py?line=662'>663</a>\u001b[0m     \u001b[39mreturn\u001b[39;00m _id\n",
      "\u001b[0;31mAttributeError\u001b[0m: 'SBNGraph' object has no attribute 'type_indices'"
     ]
    }
   ],
   "source": [
    "from synse.sbn import SBN_NODE_TYPE, SBN_EDGE_TYPE\n",
    "\n",
    "nodes, edges = [], []\n",
    "\n",
    "node_mapping = dict()\n",
    "for node_id, node_data in b.nodes.items():\n",
    "    # In het echt hoeft dit niet met de enums\n",
    "    if node_data[\"type\"] == SBN_NODE_TYPE.BOX.value:\n",
    "        node = a.create_node(SBN_NODE_TYPE.BOX, node_data[\"token\"], node_data)\n",
    "        edges.append(\n",
    "            a.create_edge(\n",
    "                a._active_box_id,\n",
    "                node[0],\n",
    "                SBN_EDGE_TYPE.BOX_BOX_CONNECT,\n",
    "                \"CONTINUATION\",\n",
    "            )\n",
    "        )\n",
    "    elif node_data[\"type\"] == SBN_NODE_TYPE.CONSTANT.value:\n",
    "        node = a.create_node(\n",
    "            SBN_NODE_TYPE.CONSTANT, node_data[\"token\"], node_data\n",
    "        )\n",
    "    elif node_data[\"type\"] == SBN_NODE_TYPE.SYNSET.value:\n",
    "        node = a.create_node(\n",
    "            SBN_NODE_TYPE.SYNSET, node_data[\"token\"], node_data\n",
    "        )\n",
    "    else:\n",
    "        raise ValueError()\n",
    "\n",
    "    nodes.append(node)\n",
    "    node_mapping[node_id] = node[0]\n",
    "\n",
    "for edge_id, edge_data in b.edges.items():\n",
    "    if edge_data[\"type\"] == SBN_EDGE_TYPE.BOX_BOX_CONNECT.value:\n",
    "        edge_type = SBN_EDGE_TYPE.BOX_BOX_CONNECT\n",
    "    elif edge_data[\"type\"] == SBN_EDGE_TYPE.BOX_CONNECT.value:\n",
    "        edge_type = SBN_EDGE_TYPE.BOX_CONNECT\n",
    "    elif edge_data[\"type\"] == SBN_EDGE_TYPE.ROLE.value:\n",
    "        edge_type = SBN_EDGE_TYPE.ROLE\n",
    "    elif edge_data[\"type\"] == SBN_EDGE_TYPE.DRS_OPERATOR.value:\n",
    "        edge_type = SBN_EDGE_TYPE.DRS_OPERATOR\n",
    "    else:\n",
    "        raise ValueError()\n",
    "\n",
    "    from_node, to_node = edge_id\n",
    "    edges.append(\n",
    "        a.create_edge(\n",
    "            node_mapping[from_node],\n",
    "            node_mapping[to_node],\n",
    "            edge_type,\n",
    "            edge_data[\"token\"],\n",
    "            edge_data,\n",
    "        )\n",
    "    )\n",
    "\n",
    "a.add_nodes_from(nodes)\n",
    "a.add_edges_from(edges)"
   ]
  },
  {
   "cell_type": "code",
   "execution_count": 1,
   "metadata": {},
   "outputs": [],
   "source": [
    "test_sbn = \"entity.n.01 NEGATION -1 time.n.08 EQU now right.a.05 AttributeOf -2 Time -1\""
   ]
  },
  {
   "cell_type": "code",
   "execution_count": 11,
   "metadata": {},
   "outputs": [
    {
     "name": "stdout",
     "output_type": "stream",
     "text": [
      "['\\nentity.n.01', '\\nNEGATION', '-1', '\\ntime.n.08', 'EQU', 'now', '\\nright.a.05', 'AttributeOf', '-2', 'Time', '-1']\n",
      "entity.n.01 \n",
      "NEGATION -1 \n",
      "time.n.08 EQU now \n",
      "right.a.05 AttributeOf -2 Time -1\n"
     ]
    }
   ],
   "source": [
    "from synse.sbn import SBNSpec\n",
    "import re\n",
    "\n",
    "tokens = test_sbn.split(' ')\n",
    "final_tokens = []\n",
    "in_sense_line = False\n",
    "\n",
    "for i, token in enumerate(tokens):\n",
    "    if SBNSpec.SYNSET_PATTERN.match(token) or (token in SBNSpec.NEW_BOX_INDICATORS):\n",
    "        token = f'\\n{token}'\n",
    "    final_tokens.append(token)\n",
    "    \n",
    "print(final_tokens)\n",
    "print(' '.join(final_tokens).strip())"
   ]
  },
  {
   "cell_type": "code",
   "execution_count": 18,
   "metadata": {},
   "outputs": [
    {
     "name": "stdout",
     "output_type": "stream",
     "text": [
      "dev\n",
      "1169 1169\n",
      "eval\n",
      "830 830\n",
      "test\n",
      "1048 1048\n"
     ]
    }
   ],
   "source": [
    "from pathlib import Path\n",
    "for split in ['dev', 'eval', 'test']:\n",
    "    output_lines = Path(f'data/seq2seq/{split}.out').read_text().rstrip().split('\\n')\n",
    "    ids = Path(f'data/splits/{split}.txt').read_text().rstrip().split('\\n')\n",
    "\n",
    "    print(split)\n",
    "    print(len(output_lines), len(ids))\n",
    "\n",
    "    assert len(output_lines) == len(ids)\n",
    "\n",
    "    final_lines = ['id,sbn']\n",
    "    final_lines.extend([\n",
    "        f'{i},{l}'\n",
    "        for i, l in zip(ids, output_lines)\n",
    "    ])\n",
    "\n",
    "    Path(f'{split}_full.csv').write_text('\\n'.join(final_lines))"
   ]
  },
  {
   "cell_type": "code",
   "execution_count": 5,
   "metadata": {},
   "outputs": [
    {
     "data": {
      "text/plain": [
       "['marzipan.n.01 pig.n.01 MadeOf -1 ',\n",
       " None,\n",
       " None,\n",
       " None,\n",
       " None,\n",
       " ' -1 time.n.08 EQU now grunt.v.01 Agent -2 Time -1']"
      ]
     },
     "execution_count": 5,
     "metadata": {},
     "output_type": "execute_result"
    }
   ],
   "source": [
    "split_regex.split(test_sbn)"
   ]
  },
  {
   "cell_type": "code",
   "execution_count": null,
   "metadata": {},
   "outputs": [],
   "source": [
    "from pathlib import Path\n",
    "import re\n",
    "\n",
    "DOC_ID_PATTERN = re.compile(r\"(p\\d{2}/d\\d{4})\")\n",
    "\n",
    "for lang in ['de', 'it', 'nl']:\n",
    "    for s in ['test', 'train', 'dev']:\n",
    "        content = Path(f'{lang}/gold/{s}.txt').read_text()\n",
    "        ids = set(DOC_ID_PATTERN.findall(content))\n",
    "        Path(f\"{lang}_{s}.txt\").write_text('\\n'.join(sorted(ids)))"
   ]
  }
 ],
 "metadata": {
  "interpreter": {
   "hash": "7e1a869e4f47a7a6954aa45bb00cc42349ff8300181ba44d21e548229fd9a24b"
  },
  "kernelspec": {
   "display_name": "Python 3.10.0 64-bit ('thesis': conda)",
   "language": "python",
   "name": "python3"
  },
  "language_info": {
   "codemirror_mode": {
    "name": "ipython",
    "version": 3
   },
   "file_extension": ".py",
   "mimetype": "text/x-python",
   "name": "python",
   "nbconvert_exporter": "python",
   "pygments_lexer": "ipython3",
   "version": "3.9.7"
  },
  "orig_nbformat": 4
 },
 "nbformat": 4,
 "nbformat_minor": 2
}
