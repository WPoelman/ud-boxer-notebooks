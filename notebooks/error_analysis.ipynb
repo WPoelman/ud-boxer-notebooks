{
 "cells": [
  {
   "cell_type": "code",
   "execution_count": 3,
   "metadata": {},
   "outputs": [],
   "source": [
    "import pandas as pd\n",
    "from pathlib import Path\n",
    "\n",
    "DATA_DIR = Path('../data/seq2seq/evaluation').resolve()"
   ]
  },
  {
   "cell_type": "code",
   "execution_count": 2,
   "metadata": {},
   "outputs": [
    {
     "name": "stdout",
     "output_type": "stream",
     "text": [
      "dev: f1_strict 0.867 f1_lenient 0.873\n",
      "eval: f1_strict 0.85 f1_lenient 0.857\n",
      "test: f1_strict 0.872 f1_lenient 0.879\n"
     ]
    }
   ],
   "source": [
    "for split in ['dev', 'eval', 'test']:\n",
    "    df_res = pd.read_csv(DATA_DIR / f'{split}_results.csv')\n",
    "    df_err = pd.read_csv(DATA_DIR / f'{split}_errors.csv')\n",
    "    df_err['pmb_id'] = df_err['pmb_id'].apply(lambda x: f'en/{x}')\n",
    "    df = pd.concat([df_res, df_err])\n",
    "\n",
    "\n",
    "    print(f'{split}: f1_strict {df.f1.mean():.3} f1_lenient {df.f1_lenient.mean():.3}')\n",
    "\n",
    "    df.to_csv(f'seq2seq_results_gold_only_{split}.csv', index=False)"
   ]
  },
  {
   "cell_type": "code",
   "execution_count": 16,
   "metadata": {},
   "outputs": [
    {
     "name": "stdout",
     "output_type": "stream",
     "text": [
      "{'en/p20/d2343', 'en/p10/d1823', 'en/p00/d2229', 'en/p10/d3022', 'en/p40/d2979', 'en/p30/d1528', 'en/p10/d2815'}\n",
      "{'en/p70/d2267', 'en/p60/d0784'}\n",
      "{'en/p21/d3487', 'en/p81/d2490', 'en/p01/d1840', 'en/p81/d2197'}\n"
     ]
    }
   ],
   "source": [
    "from synse.sbn import SBNGraph\n",
    "\n",
    "IDS_DIR = Path('data/splits')\n",
    "\n",
    "for split in ['dev', 'eval', 'test']:\n",
    "    ids = set([\n",
    "        f'en/{i}' for i in  Path(IDS_DIR / f\"{split}.txt\").read_text().split(\"\\n\")\n",
    "    ])\n",
    "\n",
    "    df = pd.read_csv(f'seq2seq_results_{split}.csv')\n",
    "    ids_missing = ids.difference(set(df.pmb_id.tolist()))\n",
    "\n",
    "    error_records = []\n",
    "    for _id in ids_missing:\n",
    "        try:\n",
    "            SBNGraph().from_path(f'../../data/pmb_dataset/pmb-extracted/pmb-4.0.0/data/en/gold/{_id.replace(\"en/\", \"\")}/en.drs.sbn')\n",
    "        except Exception as e:\n",
    "            error_records.append(\n",
    "                {\n",
    "                    'pmb_id': _id, \n",
    "                    'raw_sent': Path(f'../../data/pmb_dataset/pmb-extracted/pmb-4.0.0/data/en/gold/{_id.replace(\"en/\", \"\")}/en.raw').read_text(),\n",
    "                    \"error\": f'Dataset error: {str(e)}'\n",
    "                }\n",
    "            )\n",
    "            \n",
    "    df_final = pd.concat([df, pd.DataFrame().from_records(error_records)])\n",
    "\n",
    "    df_final.loc[df_final['raw_sent'].isnull(), 'raw_sent'] = df_final[df_final['raw_sent'].isnull()]['pmb_id'].apply(lambda x: Path(f'../../data/pmb_dataset/pmb-extracted/pmb-4.0.0/data/en/gold/{x.replace(\"en/\", \"\")}/en.raw').read_text())\n",
    "\n",
    "    df_final['raw_sent'] = df_final['raw_sent'].str.replace('\\n', ' ')\n",
    "    df_final['raw_sent'] = df_final['raw_sent'].str.rstrip()\n",
    "    df_final.to_csv(f'seq/seq2seq_results_{split}.csv', index=False)"
   ]
  },
  {
   "cell_type": "code",
   "execution_count": 3,
   "metadata": {},
   "outputs": [
    {
     "name": "stderr",
     "output_type": "stream",
     "text": [
      "Initialized cyclic SBN graph, this will work for most tasks, but can cause problems later on when exporting to Penman for instance.\n"
     ]
    },
    {
     "data": {
      "text/plain": [
       "<synse.sbn.SBNGraph at 0x7fd90d65f250>"
      ]
     },
     "execution_count": 3,
     "metadata": {},
     "output_type": "execute_result"
    }
   ],
   "source": [
    "SBNGraph().from_path(f'../../data/pmb_dataset/pmb-extracted/pmb-4.0.0/data/en/gold/p10/d3022/en.drs.sbn')"
   ]
  },
  {
   "cell_type": "code",
   "execution_count": 31,
   "metadata": {},
   "outputs": [
    {
     "name": "stdout",
     "output_type": "stream",
     "text": [
      "dev: f1_strict 0.925 f1_lenient 0.933\n",
      "eval: f1_strict 0.917 f1_lenient 0.926\n",
      "test: f1_strict 0.924 f1_lenient 0.931\n"
     ]
    }
   ],
   "source": [
    "for split in ['dev', 'eval', 'test']:\n",
    "    df = pd.read_csv(f'seq/seq2seq_results_{split}.csv')\n",
    "\n",
    "    df['error'] = df['error'].fillna('')\n",
    "    df = df[~df['error'].str.contains('Dataset error')]\n",
    "\n",
    "    df['f1'] = df['f1'].fillna(0)\n",
    "    df['f1_lenient'] = df['f1_lenient'].fillna(0)\n",
    "    print(f'{split}: f1_strict {df.f1.mean():.3} f1_lenient {df.f1_lenient.mean():.3}')\n"
   ]
  },
  {
   "cell_type": "code",
   "execution_count": 32,
   "metadata": {},
   "outputs": [
    {
     "name": "stdout",
     "output_type": "stream",
     "text": [
      "test: f1_strict 0.767 f1_lenient 0.779\n"
     ]
    }
   ],
   "source": [
    "df = pd.read_csv(f'data/results/dev/dev_results_negation.csv')\n",
    "print(f'{split}: f1_strict {df.f1.mean():.3} f1_lenient {df.f1_lenient.mean():.3}')"
   ]
  },
  {
   "cell_type": "code",
   "execution_count": 38,
   "metadata": {},
   "outputs": [],
   "source": [
    "df = pd.read_csv(f'../data/seq2seq/evaluation/seq2seq_results_gold_only_eval.csv')\n",
    "\n",
    "df['f1'] = df['f1'].fillna(0)\n",
    "df['f1_lenient'] = df['f1_lenient'].fillna(0)\n",
    "\n",
    "df['error'] = df.error.map(lambda i: str(i))\n",
    "\n",
    "df = df[~df['error'].str.contains(\"cyclic SBN \")]"
   ]
  },
  {
   "cell_type": "code",
   "execution_count": 39,
   "metadata": {},
   "outputs": [
    {
     "data": {
      "text/plain": [
       "0                                                    nan\n",
       "1                                                    nan\n",
       "2                                                    nan\n",
       "3                                                    nan\n",
       "4                                                    nan\n",
       "                             ...                        \n",
       "823    Invalid token found '-1' in line: election.n.0...\n",
       "824    Invalid token found '\"Leipzig\"' in line: sweat...\n",
       "825    Invalid token found '-2' in line: ranger.n.02 ...\n",
       "826                                  pop from empty list\n",
       "827    Invalid token found '+' in line: red.a.01 + Co...\n",
       "Name: error, Length: 821, dtype: object"
      ]
     },
     "execution_count": 39,
     "metadata": {},
     "output_type": "execute_result"
    }
   ],
   "source": [
    "df.error"
   ]
  },
  {
   "cell_type": "code",
   "execution_count": 40,
   "metadata": {},
   "outputs": [
    {
     "data": {
      "text/html": [
       "<div>\n",
       "<style scoped>\n",
       "    .dataframe tbody tr th:only-of-type {\n",
       "        vertical-align: middle;\n",
       "    }\n",
       "\n",
       "    .dataframe tbody tr th {\n",
       "        vertical-align: top;\n",
       "    }\n",
       "\n",
       "    .dataframe thead th {\n",
       "        text-align: right;\n",
       "    }\n",
       "</style>\n",
       "<table border=\"1\" class=\"dataframe\">\n",
       "  <thead>\n",
       "    <tr style=\"text-align: right;\">\n",
       "      <th></th>\n",
       "      <th>pmb_id</th>\n",
       "      <th>raw_sent</th>\n",
       "      <th>precision</th>\n",
       "      <th>recall</th>\n",
       "      <th>f1</th>\n",
       "      <th>precision_lenient</th>\n",
       "      <th>recall_lenient</th>\n",
       "      <th>f1_lenient</th>\n",
       "      <th>error</th>\n",
       "    </tr>\n",
       "  </thead>\n",
       "  <tbody>\n",
       "    <tr>\n",
       "      <th>0</th>\n",
       "      <td>en/p60/d3549</td>\n",
       "      <td>The researchers trained monkeys to play a vide...</td>\n",
       "      <td>0.777778</td>\n",
       "      <td>0.760870</td>\n",
       "      <td>0.769231</td>\n",
       "      <td>0.763158</td>\n",
       "      <td>0.743590</td>\n",
       "      <td>0.753247</td>\n",
       "      <td>nan</td>\n",
       "    </tr>\n",
       "    <tr>\n",
       "      <th>1</th>\n",
       "      <td>en/p60/d2338</td>\n",
       "      <td>This tool is good for nothing.</td>\n",
       "      <td>0.952381</td>\n",
       "      <td>0.952381</td>\n",
       "      <td>0.952381</td>\n",
       "      <td>0.944444</td>\n",
       "      <td>0.944444</td>\n",
       "      <td>0.944444</td>\n",
       "      <td>nan</td>\n",
       "    </tr>\n",
       "    <tr>\n",
       "      <th>2</th>\n",
       "      <td>en/p60/d1579</td>\n",
       "      <td>Tom is puzzled.</td>\n",
       "      <td>0.913043</td>\n",
       "      <td>0.913043</td>\n",
       "      <td>0.913043</td>\n",
       "      <td>0.950000</td>\n",
       "      <td>0.950000</td>\n",
       "      <td>0.950000</td>\n",
       "      <td>nan</td>\n",
       "    </tr>\n",
       "    <tr>\n",
       "      <th>3</th>\n",
       "      <td>en/p60/d3402</td>\n",
       "      <td>This is an important film.</td>\n",
       "      <td>0.939394</td>\n",
       "      <td>0.939394</td>\n",
       "      <td>0.939394</td>\n",
       "      <td>0.928571</td>\n",
       "      <td>0.928571</td>\n",
       "      <td>0.928571</td>\n",
       "      <td>nan</td>\n",
       "    </tr>\n",
       "    <tr>\n",
       "      <th>4</th>\n",
       "      <td>en/p60/d3280</td>\n",
       "      <td>She wrapped her sandwich in plastic wrap.</td>\n",
       "      <td>0.882353</td>\n",
       "      <td>0.750000</td>\n",
       "      <td>0.810811</td>\n",
       "      <td>0.862069</td>\n",
       "      <td>0.735294</td>\n",
       "      <td>0.793651</td>\n",
       "      <td>nan</td>\n",
       "    </tr>\n",
       "  </tbody>\n",
       "</table>\n",
       "</div>"
      ],
      "text/plain": [
       "         pmb_id                                           raw_sent  precision  \\\n",
       "0  en/p60/d3549  The researchers trained monkeys to play a vide...   0.777778   \n",
       "1  en/p60/d2338                     This tool is good for nothing.   0.952381   \n",
       "2  en/p60/d1579                                    Tom is puzzled.   0.913043   \n",
       "3  en/p60/d3402                         This is an important film.   0.939394   \n",
       "4  en/p60/d3280          She wrapped her sandwich in plastic wrap.   0.882353   \n",
       "\n",
       "     recall        f1  precision_lenient  recall_lenient  f1_lenient error  \n",
       "0  0.760870  0.769231           0.763158        0.743590    0.753247   nan  \n",
       "1  0.952381  0.952381           0.944444        0.944444    0.944444   nan  \n",
       "2  0.913043  0.913043           0.950000        0.950000    0.950000   nan  \n",
       "3  0.939394  0.939394           0.928571        0.928571    0.928571   nan  \n",
       "4  0.750000  0.810811           0.862069        0.735294    0.793651   nan  "
      ]
     },
     "execution_count": 40,
     "metadata": {},
     "output_type": "execute_result"
    }
   ],
   "source": [
    "df.head()"
   ]
  },
  {
   "cell_type": "code",
   "execution_count": 41,
   "metadata": {},
   "outputs": [
    {
     "name": "stdout",
     "output_type": "stream",
     "text": [
      "25\n",
      "f1_strict 0.824 f1_lenient 0.831\n"
     ]
    }
   ],
   "source": [
    "print(len(df[df.error != 'nan']))\n",
    "print(f'f1_strict {df.f1.mean():.3} f1_lenient {df.f1_lenient.mean():.3}')"
   ]
  },
  {
   "cell_type": "code",
   "execution_count": 37,
   "metadata": {},
   "outputs": [
    {
     "data": {
      "text/plain": [
       "18"
      ]
     },
     "execution_count": 37,
     "metadata": {},
     "output_type": "execute_result"
    }
   ],
   "source": [
    "len(df[df.error != 'nan'].error)"
   ]
  },
  {
   "cell_type": "code",
   "execution_count": 44,
   "metadata": {},
   "outputs": [
    {
     "data": {
      "text/plain": [
       "2.1634615384615383"
      ]
     },
     "execution_count": 44,
     "metadata": {},
     "output_type": "execute_result"
    }
   ],
   "source": [
    "(18 / 832) * 100"
   ]
  }
 ],
 "metadata": {
  "interpreter": {
   "hash": "7e1a869e4f47a7a6954aa45bb00cc42349ff8300181ba44d21e548229fd9a24b"
  },
  "kernelspec": {
   "display_name": "Python 3.9.7 ('thesis')",
   "language": "python",
   "name": "python3"
  },
  "language_info": {
   "codemirror_mode": {
    "name": "ipython",
    "version": 3
   },
   "file_extension": ".py",
   "mimetype": "text/x-python",
   "name": "python",
   "nbconvert_exporter": "python",
   "pygments_lexer": "ipython3",
   "version": "3.9.7"
  },
  "orig_nbformat": 4
 },
 "nbformat": 4,
 "nbformat_minor": 2
}
