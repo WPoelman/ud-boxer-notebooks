{
 "cells": [
  {
   "cell_type": "code",
   "execution_count": 6,
   "metadata": {},
   "outputs": [],
   "source": [
    "import pandas as pd\n",
    "from pathlib import Path\n",
    "\n",
    "DATA_DIR = Path('../data/splits')"
   ]
  },
  {
   "cell_type": "code",
   "execution_count": 5,
   "metadata": {},
   "outputs": [],
   "source": [
    "from synse.sbn_spec import SBNSpec\n",
    "\n",
    "for file in DATA_DIR.glob('de*.txt'):\n",
    "    target = Path(f'{file.stem}.txt')\n",
    "\n",
    "    lines = file.read_text().split('\\n')\n",
    "    new = []\n",
    "\n",
    "    for i in range(0, len(lines) - 1, 2):\n",
    "        new.append(lines[i])\n",
    "\n",
    "    target.write_text(\"\\n\".join(new))"
   ]
  },
  {
   "cell_type": "code",
   "execution_count": 11,
   "metadata": {},
   "outputs": [],
   "source": [
    "lang = 'nl'\n",
    "train = set(Path(DATA_DIR / f\"{lang}_train.txt\").read_text().split(\"\\n\"))\n",
    "test = set(Path(DATA_DIR / f\"{lang}_test.txt\").read_text().split(\"\\n\"))\n",
    "dev = set(Path(DATA_DIR / f\"{lang}_dev.txt\").read_text().split(\"\\n\"))\n",
    "# eval = set(Path(DATA_DIR / f\"{lang}_eval.txt\").read_text().split(\"\\n\"))"
   ]
  },
  {
   "cell_type": "code",
   "execution_count": 12,
   "metadata": {},
   "outputs": [
    {
     "name": "stdout",
     "output_type": "stream",
     "text": [
      "train 539\n",
      "test 491\n",
      "dev 437\n"
     ]
    },
    {
     "ename": "TypeError",
     "evalue": "object of type 'builtin_function_or_method' has no len()",
     "output_type": "error",
     "traceback": [
      "\u001b[0;31m---------------------------------------------------------------------------\u001b[0m",
      "\u001b[0;31mTypeError\u001b[0m                                 Traceback (most recent call last)",
      "\u001b[1;32m/home/wessel/Documents/documents/study/1_thesis/project/thesis/notebooks/data_splits.ipynb Cell 4'\u001b[0m in \u001b[0;36m<module>\u001b[0;34m\u001b[0m\n\u001b[1;32m      <a href='vscode-notebook-cell:/home/wessel/Documents/documents/study/1_thesis/project/thesis/notebooks/data_splits.ipynb#ch0000003?line=1'>2</a>\u001b[0m \u001b[39mprint\u001b[39m(\u001b[39mf\u001b[39m\u001b[39m'\u001b[39m\u001b[39mtest \u001b[39m\u001b[39m{\u001b[39;00m\u001b[39mlen\u001b[39m(test)\u001b[39m}\u001b[39;00m\u001b[39m'\u001b[39m)\n\u001b[1;32m      <a href='vscode-notebook-cell:/home/wessel/Documents/documents/study/1_thesis/project/thesis/notebooks/data_splits.ipynb#ch0000003?line=2'>3</a>\u001b[0m \u001b[39mprint\u001b[39m(\u001b[39mf\u001b[39m\u001b[39m'\u001b[39m\u001b[39mdev \u001b[39m\u001b[39m{\u001b[39;00m\u001b[39mlen\u001b[39m(dev)\u001b[39m}\u001b[39;00m\u001b[39m'\u001b[39m)\n\u001b[0;32m----> <a href='vscode-notebook-cell:/home/wessel/Documents/documents/study/1_thesis/project/thesis/notebooks/data_splits.ipynb#ch0000003?line=3'>4</a>\u001b[0m \u001b[39mprint\u001b[39m(\u001b[39mf\u001b[39m\u001b[39m'\u001b[39m\u001b[39meval \u001b[39m\u001b[39m{\u001b[39;00m\u001b[39mlen\u001b[39m(\u001b[39meval\u001b[39m)\u001b[39m}\u001b[39;00m\u001b[39m'\u001b[39m)\n",
      "\u001b[0;31mTypeError\u001b[0m: object of type 'builtin_function_or_method' has no len()"
     ]
    }
   ],
   "source": [
    "print(f'train {len(train)}')\n",
    "print(f'test {len(test)}')\n",
    "print(f'dev {len(dev)}')\n",
    "print(f'eval {len(eval)}')"
   ]
  },
  {
   "cell_type": "code",
   "execution_count": 8,
   "metadata": {},
   "outputs": [
    {
     "data": {
      "text/plain": [
       "set()"
      ]
     },
     "execution_count": 8,
     "metadata": {},
     "output_type": "execute_result"
    }
   ],
   "source": [
    "test.intersection(dev)"
   ]
  }
 ],
 "metadata": {
  "interpreter": {
   "hash": "7e1a869e4f47a7a6954aa45bb00cc42349ff8300181ba44d21e548229fd9a24b"
  },
  "kernelspec": {
   "display_name": "Python 3.9.7 ('thesis')",
   "language": "python",
   "name": "python3"
  },
  "language_info": {
   "codemirror_mode": {
    "name": "ipython",
    "version": 3
   },
   "file_extension": ".py",
   "mimetype": "text/x-python",
   "name": "python",
   "nbconvert_exporter": "python",
   "pygments_lexer": "ipython3",
   "version": "3.9.7"
  },
  "orig_nbformat": 4
 },
 "nbformat": 4,
 "nbformat_minor": 2
}
